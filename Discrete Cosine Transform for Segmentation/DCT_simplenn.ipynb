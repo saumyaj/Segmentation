{
 "cells": [
  {
   "cell_type": "code",
   "execution_count": 1,
   "metadata": {},
   "outputs": [
    {
     "name": "stderr",
     "output_type": "stream",
     "text": [
      "Using TensorFlow backend.\n"
     ]
    }
   ],
   "source": [
    "from __future__ import print_function\n",
    "import argparse\n",
    "import os\n",
    "import random\n",
    "\n",
    "import numpy\n",
    "\n",
    "from keras.models import Sequential\n",
    "from keras.layers import Dense\n",
    "from keras.wrappers.scikit_learn import KerasRegressor\n",
    "from sklearn.model_selection import cross_val_score\n",
    "from sklearn.model_selection import KFold\n",
    "from sklearn.preprocessing import StandardScaler\n",
    "from sklearn.pipeline import Pipeline\n",
    "from keras.utils import np_utils\n",
    "import keras.models as models\n",
    "from keras.layers import Input,merge\n",
    "from keras.layers.core import Reshape,Dense,Dropout,Activation,Flatten\n",
    "from keras.layers.advanced_activations import LeakyReLU\n",
    "from keras.activations import *\n",
    "from keras.layers.wrappers import TimeDistributed\n",
    "from keras.layers.noise import GaussianNoise\n",
    "from keras.layers.convolutional import Convolution2D, MaxPooling2D, ZeroPadding2D, UpSampling2D\n",
    "from keras.layers.recurrent import LSTM\n",
    "from keras.regularizers import *\n",
    "from keras.layers.normalization import *\n",
    "from keras.optimizers import *"
   ]
  },
  {
   "cell_type": "code",
   "execution_count": 2,
   "metadata": {
    "collapsed": true
   },
   "outputs": [],
   "source": [
    "dataset='cifar10'\n",
    "dataroot='f1'\n",
    "workers=1\n",
    "batchSize=5\n",
    "imageSize=32\n",
    "nz=400\n",
    "ngf=64\n",
    "ndf=64\n",
    "niter=25\n",
    "lr=0.0002\n",
    "beta1=0.5\n",
    "cuda=True\n",
    "ngpu=1\n",
    "netG=''\n",
    "netD=''\n",
    "outf='f1'\n",
    "manualSeed=10\n",
    "try:\n",
    "    os.makedirs(outf)\n",
    "except OSError:\n",
    "    pass\n"
   ]
  },
  {
   "cell_type": "code",
   "execution_count": 3,
   "metadata": {},
   "outputs": [],
   "source": [
    "import os\n",
    "I='hundred/'\n",
    "ls1=os.listdir(I)\n",
    "M='dct_3/'\n",
    "ls2=os.listdir(M)\n",
    "\n",
    "import scipy.misc as sm\n",
    "import numpy as np\n",
    "import scipy.io as si\n",
    "names=[]\n",
    "xx=400*3\n",
    "lls2=len(ls2)\n",
    "m=int(0.9*lls2)\n",
    "X=np.zeros((m,xx))\n",
    "Y=np.zeros((m,3*32*32))\n",
    "Xtest=np.zeros((lls2-m,xx))\n",
    "Ytest=np.zeros((lls2-m,3*32*32))\n",
    "count=0\n",
    "for ind,i in enumerate(ls2):\n",
    "    if(ind<m):\n",
    "        names.append(i)\n",
    "        li=len(i)\n",
    "        temp=i[0:li-4]\n",
    "        #temp=i.split('__')[0]\n",
    "        tmp1=si.loadmat(M+i)['xx'][0:20,0:20,:]\n",
    "        X[ind,:]=np.ravel(tmp1)\n",
    "        temp2=sm.imread(I+temp+'.png')/255.0\n",
    "        Y[ind,:]=np.ravel(temp2)\n",
    "    else:\n",
    "        names.append(i)\n",
    "        li=len(i)\n",
    "        temp=i[0:li-4]\n",
    "        #temp=i.split('__')[0]\n",
    "        tmp1=si.loadmat(M+i)['xx'][0:20,0:20,:]\n",
    "        Xtest[count,:]=np.ravel(tmp1)\n",
    "        temp2=sm.imread(I+temp+'.png')/255.0\n",
    "        Ytest[count,:]=np.ravel(temp2)\n",
    "        count=count+1\n",
    "    \n",
    "    \n",
    "    \n",
    "    \n",
    "    "
   ]
  },
  {
   "cell_type": "code",
   "execution_count": 4,
   "metadata": {
    "collapsed": true
   },
   "outputs": [],
   "source": [
    "import sklearn.preprocessing as sp\n",
    "#X=X/np.max(X)\n",
    "X=sp.normalize(X)    \n"
   ]
  },
  {
   "cell_type": "code",
   "execution_count": null,
   "metadata": {
    "collapsed": true
   },
   "outputs": [],
   "source": []
  },
  {
   "cell_type": "code",
   "execution_count": 5,
   "metadata": {
    "collapsed": true
   },
   "outputs": [],
   "source": [
    "inps=3*imageSize*imageSize"
   ]
  },
  {
   "cell_type": "code",
   "execution_count": 6,
   "metadata": {
    "collapsed": true
   },
   "outputs": [],
   "source": [
    "def larger_model():\n",
    "\t# create model\n",
    "\tmodel = Sequential()\n",
    "\tmodel.add(Dense(1000, input_dim=xx, activation='sigmoid'))\n",
    "\tmodel.add(Dense(1000,activation='relu'))\n",
    "\tmodel.add(Dense(1000,activation='relu'))\n",
    "\tmodel.add(Dense(inps, activation='sigmoid'))\n",
    "\t# Compile model\n",
    "\treturn model"
   ]
  },
  {
   "cell_type": "code",
   "execution_count": 7,
   "metadata": {
    "collapsed": true
   },
   "outputs": [],
   "source": [
    "def discr():\n",
    "\t# create model\n",
    "\tmodel = Sequential()\n",
    "\tmodel.add(Dense(50, input_dim=inps, kernel_initializer='normal', activation='relu'))\n",
    "\t#model.add(Dense(100, kernel_initializer='normal',activation='relu'))\n",
    "\tmodel.add(Dense(2, kernel_initializer='normal',activation='softmax'))\n",
    "\t# Compile model\n",
    "\tmodel.compile(loss='categorical_crossentropy', optimizer='adam')\n",
    "\treturn model"
   ]
  },
  {
   "cell_type": "code",
   "execution_count": 8,
   "metadata": {},
   "outputs": [],
   "source": [
    "def make_trainable(net, val):\n",
    "    net.trainable = val\n",
    "    for l in net.layers:\n",
    "        l.trainable = val\n",
    "        \n",
    "gen=larger_model()\n",
    "dis=discr()\n",
    "make_trainable(dis, False)"
   ]
  },
  {
   "cell_type": "code",
   "execution_count": 9,
   "metadata": {
    "collapsed": true
   },
   "outputs": [],
   "source": [
    "def mixed(x,y):\n",
    "    model=Sequential()\n",
    "    model.add(x)\n",
    "    model.add(y)\n",
    "    model.compile(loss='categorical_crossentropy', optimizer='adam')\n",
    "    return model\n",
    "    "
   ]
  },
  {
   "cell_type": "code",
   "execution_count": 10,
   "metadata": {},
   "outputs": [
    {
     "name": "stdout",
     "output_type": "stream",
     "text": [
      "_________________________________________________________________\n",
      "Layer (type)                 Output Shape              Param #   \n",
      "=================================================================\n",
      "sequential_1 (Sequential)    (None, 3072)              6278072   \n",
      "_________________________________________________________________\n",
      "sequential_2 (Sequential)    (None, 2)                 153752    \n",
      "=================================================================\n",
      "Total params: 6,431,824\n",
      "Trainable params: 6,278,072\n",
      "Non-trainable params: 153,752\n",
      "_________________________________________________________________\n"
     ]
    }
   ],
   "source": [
    "GAN=mixed(gen,dis)\n",
    "GAN.summary()"
   ]
  },
  {
   "cell_type": "code",
   "execution_count": 11,
   "metadata": {},
   "outputs": [
    {
     "name": "stdout",
     "output_type": "stream",
     "text": [
      "(0, 0, 0.70381862, 0.63413709)\n",
      "(0, 40, 0.010591134, 4.5844765)\n",
      "(0, 80, 0.0035380868, 5.9287281)\n",
      "(1, 0, 2.393301, 0.12626612)\n",
      "(1, 40, 0.018350352, 4.0110712)\n",
      "(1, 80, 0.14128086, 2.5333147)\n",
      "(2, 0, 1.9787139, 0.19761932)\n",
      "(2, 40, 0.12707216, 2.8249216)\n",
      "(2, 80, 0.040536169, 4.2396789)\n",
      "(3, 0, 0.039859787, 4.5799894)\n",
      "(3, 40, 0.022769835, 5.0002599)\n",
      "(3, 80, 0.015993057, 5.0315223)\n",
      "(4, 0, 0.013936128, 4.8767176)\n",
      "(4, 40, 0.014440086, 4.564497)\n",
      "(4, 80, 0.033783685, 3.8519776)\n",
      "(5, 0, 0.08374279, 2.994828)\n",
      "(5, 40, 0.081567578, 4.6259179)\n",
      "(5, 80, 0.023534233, 4.8050342)\n",
      "(6, 0, 0.019905902, 4.5895438)\n",
      "(6, 40, 0.016638195, 4.8041296)\n",
      "(6, 80, 0.018818231, 4.577322)\n",
      "(7, 0, 0.04616759, 3.1283689)\n",
      "(7, 40, 0.094320275, 4.4216008)\n",
      "(7, 80, 0.0086503942, 5.4982972)\n",
      "(8, 0, 0.0073509105, 5.5150895)\n",
      "(8, 40, 0.007728016, 5.8909431)\n",
      "(8, 80, 0.0042747804, 5.8849168)\n",
      "(9, 0, 0.0061071813, 5.6922207)\n",
      "(9, 40, 0.0054593892, 6.0872936)\n",
      "(9, 80, 0.0033519105, 6.4394846)\n",
      "(10, 0, 0.0027080197, 6.6832852)\n",
      "(10, 40, 0.0045877635, 6.9262819)\n",
      "(10, 80, 0.0021758028, 7.0931139)\n",
      "(11, 0, 0.0018937003, 7.1735439)\n",
      "(11, 40, 0.0022652477, 7.3299851)\n",
      "(11, 80, 0.0017357215, 7.4904623)\n",
      "(12, 0, 0.0010682879, 7.5915608)\n",
      "(12, 40, 0.00072984281, 7.6940155)\n",
      "(12, 80, 0.001054156, 7.7928953)\n",
      "(13, 0, 0.00098690973, 7.8592906)\n",
      "(13, 40, 0.00157334, 7.7937822)\n",
      "(13, 80, 0.0019027322, 6.3855543)\n",
      "(14, 0, 0.0026293038, 5.9567208)\n",
      "(14, 40, 0.0190662, 4.4908519)\n",
      "(14, 80, 0.0030612706, 7.3267436)\n",
      "(15, 0, 0.0019044068, 7.3083963)\n",
      "(15, 40, 0.0016318454, 7.4103918)\n",
      "(15, 80, 0.00078904402, 7.5436621)\n",
      "(16, 0, 0.0016370416, 7.4887233)\n",
      "(16, 40, 0.00090306601, 7.61759)\n",
      "(16, 80, 0.0014100223, 7.3861399)\n",
      "(17, 0, 0.0016565797, 7.4808664)\n",
      "(17, 40, 0.00089429354, 7.5455117)\n",
      "(17, 80, 0.0010226811, 7.7087784)\n",
      "(18, 0, 0.0016424179, 7.8414183)\n",
      "(18, 40, 0.00091859436, 7.9190288)\n",
      "(18, 80, 0.00080492673, 8.1521893)\n",
      "(19, 0, 0.0008578226, 8.2062216)\n",
      "(19, 40, 0.00080645946, 8.3407202)\n",
      "(19, 80, 0.00028534871, 8.5356398)\n",
      "(20, 0, 0.00061076984, 8.5741844)\n",
      "(20, 40, 0.00056800013, 8.6346855)\n",
      "(20, 80, 0.0011051815, 8.7332439)\n",
      "(21, 0, 0.00026536238, 8.7117157)\n",
      "(21, 40, 0.00033140485, 8.7883158)\n",
      "(21, 80, 0.00062763109, 8.8742352)\n",
      "(22, 0, 0.00029790448, 8.9607048)\n",
      "(22, 40, 0.00062583038, 9.0241899)\n",
      "(22, 80, 0.0004636001, 9.1375284)\n",
      "(23, 0, 0.0007087189, 9.1336403)\n",
      "(23, 40, 0.00032153149, 9.1740417)\n",
      "(23, 80, 0.00040947594, 9.2432652)\n",
      "(24, 0, 0.00065561163, 9.2805185)\n",
      "(24, 40, 0.0001545494, 9.3898773)\n",
      "(24, 80, 0.00014828763, 9.5027084)\n",
      "(25, 0, 0.00021346887, 9.545536)\n",
      "(25, 40, 0.00033228521, 9.5993156)\n",
      "(25, 80, 0.00021087971, 9.6641798)\n",
      "(26, 0, 0.00019332636, 9.6457119)\n",
      "(26, 40, 0.00020036861, 9.6474152)\n",
      "(26, 80, 0.00013198421, 9.7193689)\n",
      "(27, 0, 9.5077383e-05, 9.7399111)\n",
      "(27, 40, 0.00025522712, 9.8245096)\n",
      "(27, 80, 0.0001001579, 9.7370548)\n",
      "(28, 0, 0.00053298613, 9.7415895)\n",
      "(28, 40, 0.0002943725, 9.8398542)\n",
      "(28, 80, 9.3392227e-05, 9.9057884)\n",
      "(29, 0, 0.00012918434, 9.9312143)\n",
      "(29, 40, 9.2118113e-05, 9.8829002)\n",
      "(29, 80, 0.0004293753, 9.8620157)\n",
      "(30, 0, 0.0001220329, 9.7901716)\n",
      "(30, 40, 0.00063038594, 8.9368906)\n",
      "(30, 80, 0.015002969, 6.4789295)\n",
      "(31, 0, 0.015642777, 15.502275)\n",
      "(31, 40, 0.00059333892, 11.785013)\n",
      "(31, 80, 0.00027881365, 11.149223)\n",
      "(32, 0, 0.00025617174, 10.980009)\n",
      "(32, 40, 0.00034885891, 10.736059)\n",
      "(32, 80, 0.0036966405, 10.629049)\n",
      "(33, 0, 0.00010151238, 10.580156)\n",
      "(33, 40, 0.00020942428, 10.566612)\n",
      "(33, 80, 0.00026087617, 10.588861)\n",
      "(34, 0, 0.00025829748, 10.591349)\n",
      "(34, 40, 9.9667996e-05, 10.592599)\n",
      "(34, 80, 4.6709254e-05, 10.619291)\n",
      "(35, 0, 5.7951351e-05, 10.638226)\n",
      "(35, 40, 9.1444126e-05, 10.679674)\n",
      "(35, 80, 4.2818458e-05, 10.780552)\n",
      "(36, 0, 3.0865591e-05, 10.806854)\n",
      "(36, 40, 4.8298305e-05, 10.806755)\n",
      "(36, 80, 6.0255246e-05, 10.864782)\n",
      "(37, 0, 0.00045250368, 10.881836)\n",
      "(37, 40, 0.00010670422, 10.906145)\n",
      "(37, 80, 0.00010483283, 10.977665)\n",
      "(38, 0, 3.041878e-05, 10.990353)\n",
      "(38, 40, 5.9424488e-05, 11.038355)\n",
      "(38, 80, 0.00015668856, 11.089659)\n",
      "(39, 0, 1.6030963e-05, 11.091129)\n",
      "(39, 40, 5.205215e-05, 11.124908)\n",
      "(39, 80, 9.0701891e-05, 11.169658)\n",
      "(40, 0, 2.6923968e-05, 11.186913)\n",
      "(40, 40, 0.00014973363, 11.2299)\n",
      "(40, 80, 4.2292228e-05, 11.27529)\n",
      "(41, 0, 0.00010628744, 11.305235)\n",
      "(41, 40, 4.9249316e-05, 11.330177)\n",
      "(41, 80, 0.00017312351, 11.347715)\n",
      "(42, 0, 3.037488e-05, 11.362972)\n",
      "(42, 40, 3.4585184e-05, 11.401443)\n",
      "(42, 80, 0.00021391547, 11.440355)\n",
      "(43, 0, 0.00012988629, 11.45479)\n",
      "(43, 40, 6.4850196e-06, 11.491482)\n",
      "(43, 80, 4.797829e-05, 11.522441)\n",
      "(44, 0, 1.4909253e-05, 11.546949)\n",
      "(44, 40, 7.1824174e-06, 11.602829)\n",
      "(44, 80, 2.0401198e-05, 11.644327)\n",
      "(45, 0, 5.4838154e-05, 11.6595)\n",
      "(45, 40, 6.6965651e-05, 11.665034)\n",
      "(45, 80, 0.0001870929, 11.689518)\n",
      "(46, 0, 1.8654264e-05, 11.684673)\n"
     ]
    },
    {
     "ename": "KeyboardInterrupt",
     "evalue": "",
     "output_type": "error",
     "traceback": [
      "\u001b[0;31m---------------------------------------------------------------------------\u001b[0m",
      "\u001b[0;31mKeyboardInterrupt\u001b[0m                         Traceback (most recent call last)",
      "\u001b[0;32m<ipython-input-11-270710d18973>\u001b[0m in \u001b[0;36m<module>\u001b[0;34m()\u001b[0m\n\u001b[1;32m     17\u001b[0m         \u001b[0my_G\u001b[0m\u001b[0;34m=\u001b[0m\u001b[0mnp\u001b[0m\u001b[0;34m.\u001b[0m\u001b[0mzeros\u001b[0m\u001b[0;34m(\u001b[0m\u001b[0;34m(\u001b[0m\u001b[0mbs\u001b[0m\u001b[0;34m,\u001b[0m\u001b[0;36m2\u001b[0m\u001b[0;34m)\u001b[0m\u001b[0;34m)\u001b[0m\u001b[0;34m\u001b[0m\u001b[0m\n\u001b[1;32m     18\u001b[0m         \u001b[0my_G\u001b[0m\u001b[0;34m[\u001b[0m\u001b[0;34m:\u001b[0m\u001b[0;34m,\u001b[0m\u001b[0;36m1\u001b[0m\u001b[0;34m]\u001b[0m\u001b[0;34m=\u001b[0m\u001b[0;36m1\u001b[0m\u001b[0;34m\u001b[0m\u001b[0m\n\u001b[0;32m---> 19\u001b[0;31m         \u001b[0mg_loss\u001b[0m\u001b[0;34m=\u001b[0m\u001b[0mGAN\u001b[0m\u001b[0;34m.\u001b[0m\u001b[0mtrain_on_batch\u001b[0m\u001b[0;34m(\u001b[0m\u001b[0mdata\u001b[0m\u001b[0;34m,\u001b[0m\u001b[0my_G\u001b[0m\u001b[0;34m)\u001b[0m\u001b[0;34m\u001b[0m\u001b[0m\n\u001b[0m\u001b[1;32m     20\u001b[0m         \u001b[0;32mif\u001b[0m\u001b[0;34m(\u001b[0m\u001b[0mi\u001b[0m\u001b[0;34m%\u001b[0m\u001b[0;36m40\u001b[0m\u001b[0;34m==\u001b[0m\u001b[0;36m0\u001b[0m\u001b[0;34m)\u001b[0m\u001b[0;34m:\u001b[0m\u001b[0;34m\u001b[0m\u001b[0m\n\u001b[1;32m     21\u001b[0m             \u001b[0;32mprint\u001b[0m\u001b[0;34m(\u001b[0m\u001b[0;34m(\u001b[0m\u001b[0mepoch\u001b[0m\u001b[0;34m,\u001b[0m\u001b[0mi\u001b[0m\u001b[0;34m,\u001b[0m\u001b[0md_loss\u001b[0m\u001b[0;34m,\u001b[0m\u001b[0mg_loss\u001b[0m\u001b[0;34m)\u001b[0m\u001b[0;34m)\u001b[0m\u001b[0;34m\u001b[0m\u001b[0m\n",
      "\u001b[0;32m/usr/local/lib/python2.7/dist-packages/keras/models.pyc\u001b[0m in \u001b[0;36mtrain_on_batch\u001b[0;34m(self, x, y, class_weight, sample_weight)\u001b[0m\n\u001b[1;32m    962\u001b[0m         return self.model.train_on_batch(x, y,\n\u001b[1;32m    963\u001b[0m                                          \u001b[0msample_weight\u001b[0m\u001b[0;34m=\u001b[0m\u001b[0msample_weight\u001b[0m\u001b[0;34m,\u001b[0m\u001b[0;34m\u001b[0m\u001b[0m\n\u001b[0;32m--> 964\u001b[0;31m                                          class_weight=class_weight)\n\u001b[0m\u001b[1;32m    965\u001b[0m \u001b[0;34m\u001b[0m\u001b[0m\n\u001b[1;32m    966\u001b[0m     def test_on_batch(self, x, y,\n",
      "\u001b[0;32m/usr/local/lib/python2.7/dist-packages/keras/engine/training.pyc\u001b[0m in \u001b[0;36mtrain_on_batch\u001b[0;34m(self, x, y, sample_weight, class_weight)\u001b[0m\n\u001b[1;32m   1552\u001b[0m             \u001b[0mins\u001b[0m \u001b[0;34m=\u001b[0m \u001b[0mx\u001b[0m \u001b[0;34m+\u001b[0m \u001b[0my\u001b[0m \u001b[0;34m+\u001b[0m \u001b[0msample_weights\u001b[0m\u001b[0;34m\u001b[0m\u001b[0m\n\u001b[1;32m   1553\u001b[0m         \u001b[0mself\u001b[0m\u001b[0;34m.\u001b[0m\u001b[0m_make_train_function\u001b[0m\u001b[0;34m(\u001b[0m\u001b[0;34m)\u001b[0m\u001b[0;34m\u001b[0m\u001b[0m\n\u001b[0;32m-> 1554\u001b[0;31m         \u001b[0moutputs\u001b[0m \u001b[0;34m=\u001b[0m \u001b[0mself\u001b[0m\u001b[0;34m.\u001b[0m\u001b[0mtrain_function\u001b[0m\u001b[0;34m(\u001b[0m\u001b[0mins\u001b[0m\u001b[0;34m)\u001b[0m\u001b[0;34m\u001b[0m\u001b[0m\n\u001b[0m\u001b[1;32m   1555\u001b[0m         \u001b[0;32mif\u001b[0m \u001b[0mlen\u001b[0m\u001b[0;34m(\u001b[0m\u001b[0moutputs\u001b[0m\u001b[0;34m)\u001b[0m \u001b[0;34m==\u001b[0m \u001b[0;36m1\u001b[0m\u001b[0;34m:\u001b[0m\u001b[0;34m\u001b[0m\u001b[0m\n\u001b[1;32m   1556\u001b[0m             \u001b[0;32mreturn\u001b[0m \u001b[0moutputs\u001b[0m\u001b[0;34m[\u001b[0m\u001b[0;36m0\u001b[0m\u001b[0;34m]\u001b[0m\u001b[0;34m\u001b[0m\u001b[0m\n",
      "\u001b[0;32m/usr/local/lib/python2.7/dist-packages/keras/backend/tensorflow_backend.pyc\u001b[0m in \u001b[0;36m__call__\u001b[0;34m(self, inputs)\u001b[0m\n\u001b[1;32m   2266\u001b[0m         updated = session.run(self.outputs + [self.updates_op],\n\u001b[1;32m   2267\u001b[0m                               \u001b[0mfeed_dict\u001b[0m\u001b[0;34m=\u001b[0m\u001b[0mfeed_dict\u001b[0m\u001b[0;34m,\u001b[0m\u001b[0;34m\u001b[0m\u001b[0m\n\u001b[0;32m-> 2268\u001b[0;31m                               **self.session_kwargs)\n\u001b[0m\u001b[1;32m   2269\u001b[0m         \u001b[0;32mreturn\u001b[0m \u001b[0mupdated\u001b[0m\u001b[0;34m[\u001b[0m\u001b[0;34m:\u001b[0m\u001b[0mlen\u001b[0m\u001b[0;34m(\u001b[0m\u001b[0mself\u001b[0m\u001b[0;34m.\u001b[0m\u001b[0moutputs\u001b[0m\u001b[0;34m)\u001b[0m\u001b[0;34m]\u001b[0m\u001b[0;34m\u001b[0m\u001b[0m\n\u001b[1;32m   2270\u001b[0m \u001b[0;34m\u001b[0m\u001b[0m\n",
      "\u001b[0;32m/usr/local/lib/python2.7/dist-packages/tensorflow/python/client/session.pyc\u001b[0m in \u001b[0;36mrun\u001b[0;34m(self, fetches, feed_dict, options, run_metadata)\u001b[0m\n\u001b[1;32m    787\u001b[0m     \u001b[0;32mtry\u001b[0m\u001b[0;34m:\u001b[0m\u001b[0;34m\u001b[0m\u001b[0m\n\u001b[1;32m    788\u001b[0m       result = self._run(None, fetches, feed_dict, options_ptr,\n\u001b[0;32m--> 789\u001b[0;31m                          run_metadata_ptr)\n\u001b[0m\u001b[1;32m    790\u001b[0m       \u001b[0;32mif\u001b[0m \u001b[0mrun_metadata\u001b[0m\u001b[0;34m:\u001b[0m\u001b[0;34m\u001b[0m\u001b[0m\n\u001b[1;32m    791\u001b[0m         \u001b[0mproto_data\u001b[0m \u001b[0;34m=\u001b[0m \u001b[0mtf_session\u001b[0m\u001b[0;34m.\u001b[0m\u001b[0mTF_GetBuffer\u001b[0m\u001b[0;34m(\u001b[0m\u001b[0mrun_metadata_ptr\u001b[0m\u001b[0;34m)\u001b[0m\u001b[0;34m\u001b[0m\u001b[0m\n",
      "\u001b[0;32m/usr/local/lib/python2.7/dist-packages/tensorflow/python/client/session.pyc\u001b[0m in \u001b[0;36m_run\u001b[0;34m(self, handle, fetches, feed_dict, options, run_metadata)\u001b[0m\n\u001b[1;32m    995\u001b[0m     \u001b[0;32mif\u001b[0m \u001b[0mfinal_fetches\u001b[0m \u001b[0;32mor\u001b[0m \u001b[0mfinal_targets\u001b[0m\u001b[0;34m:\u001b[0m\u001b[0;34m\u001b[0m\u001b[0m\n\u001b[1;32m    996\u001b[0m       results = self._do_run(handle, final_targets, final_fetches,\n\u001b[0;32m--> 997\u001b[0;31m                              feed_dict_string, options, run_metadata)\n\u001b[0m\u001b[1;32m    998\u001b[0m     \u001b[0;32melse\u001b[0m\u001b[0;34m:\u001b[0m\u001b[0;34m\u001b[0m\u001b[0m\n\u001b[1;32m    999\u001b[0m       \u001b[0mresults\u001b[0m \u001b[0;34m=\u001b[0m \u001b[0;34m[\u001b[0m\u001b[0;34m]\u001b[0m\u001b[0;34m\u001b[0m\u001b[0m\n",
      "\u001b[0;32m/usr/local/lib/python2.7/dist-packages/tensorflow/python/client/session.pyc\u001b[0m in \u001b[0;36m_do_run\u001b[0;34m(self, handle, target_list, fetch_list, feed_dict, options, run_metadata)\u001b[0m\n\u001b[1;32m   1130\u001b[0m     \u001b[0;32mif\u001b[0m \u001b[0mhandle\u001b[0m \u001b[0;32mis\u001b[0m \u001b[0mNone\u001b[0m\u001b[0;34m:\u001b[0m\u001b[0;34m\u001b[0m\u001b[0m\n\u001b[1;32m   1131\u001b[0m       return self._do_call(_run_fn, self._session, feed_dict, fetch_list,\n\u001b[0;32m-> 1132\u001b[0;31m                            target_list, options, run_metadata)\n\u001b[0m\u001b[1;32m   1133\u001b[0m     \u001b[0;32melse\u001b[0m\u001b[0;34m:\u001b[0m\u001b[0;34m\u001b[0m\u001b[0m\n\u001b[1;32m   1134\u001b[0m       return self._do_call(_prun_fn, self._session, handle, feed_dict,\n",
      "\u001b[0;32m/usr/local/lib/python2.7/dist-packages/tensorflow/python/client/session.pyc\u001b[0m in \u001b[0;36m_do_call\u001b[0;34m(self, fn, *args)\u001b[0m\n\u001b[1;32m   1137\u001b[0m   \u001b[0;32mdef\u001b[0m \u001b[0m_do_call\u001b[0m\u001b[0;34m(\u001b[0m\u001b[0mself\u001b[0m\u001b[0;34m,\u001b[0m \u001b[0mfn\u001b[0m\u001b[0;34m,\u001b[0m \u001b[0;34m*\u001b[0m\u001b[0margs\u001b[0m\u001b[0;34m)\u001b[0m\u001b[0;34m:\u001b[0m\u001b[0;34m\u001b[0m\u001b[0m\n\u001b[1;32m   1138\u001b[0m     \u001b[0;32mtry\u001b[0m\u001b[0;34m:\u001b[0m\u001b[0;34m\u001b[0m\u001b[0m\n\u001b[0;32m-> 1139\u001b[0;31m       \u001b[0;32mreturn\u001b[0m \u001b[0mfn\u001b[0m\u001b[0;34m(\u001b[0m\u001b[0;34m*\u001b[0m\u001b[0margs\u001b[0m\u001b[0;34m)\u001b[0m\u001b[0;34m\u001b[0m\u001b[0m\n\u001b[0m\u001b[1;32m   1140\u001b[0m     \u001b[0;32mexcept\u001b[0m \u001b[0merrors\u001b[0m\u001b[0;34m.\u001b[0m\u001b[0mOpError\u001b[0m \u001b[0;32mas\u001b[0m \u001b[0me\u001b[0m\u001b[0;34m:\u001b[0m\u001b[0;34m\u001b[0m\u001b[0m\n\u001b[1;32m   1141\u001b[0m       \u001b[0mmessage\u001b[0m \u001b[0;34m=\u001b[0m \u001b[0mcompat\u001b[0m\u001b[0;34m.\u001b[0m\u001b[0mas_text\u001b[0m\u001b[0;34m(\u001b[0m\u001b[0me\u001b[0m\u001b[0;34m.\u001b[0m\u001b[0mmessage\u001b[0m\u001b[0;34m)\u001b[0m\u001b[0;34m\u001b[0m\u001b[0m\n",
      "\u001b[0;32m/usr/local/lib/python2.7/dist-packages/tensorflow/python/client/session.pyc\u001b[0m in \u001b[0;36m_run_fn\u001b[0;34m(session, feed_dict, fetch_list, target_list, options, run_metadata)\u001b[0m\n\u001b[1;32m   1119\u001b[0m         return tf_session.TF_Run(session, options,\n\u001b[1;32m   1120\u001b[0m                                  \u001b[0mfeed_dict\u001b[0m\u001b[0;34m,\u001b[0m \u001b[0mfetch_list\u001b[0m\u001b[0;34m,\u001b[0m \u001b[0mtarget_list\u001b[0m\u001b[0;34m,\u001b[0m\u001b[0;34m\u001b[0m\u001b[0m\n\u001b[0;32m-> 1121\u001b[0;31m                                  status, run_metadata)\n\u001b[0m\u001b[1;32m   1122\u001b[0m \u001b[0;34m\u001b[0m\u001b[0m\n\u001b[1;32m   1123\u001b[0m     \u001b[0;32mdef\u001b[0m \u001b[0m_prun_fn\u001b[0m\u001b[0;34m(\u001b[0m\u001b[0msession\u001b[0m\u001b[0;34m,\u001b[0m \u001b[0mhandle\u001b[0m\u001b[0;34m,\u001b[0m \u001b[0mfeed_dict\u001b[0m\u001b[0;34m,\u001b[0m \u001b[0mfetch_list\u001b[0m\u001b[0;34m)\u001b[0m\u001b[0;34m:\u001b[0m\u001b[0;34m\u001b[0m\u001b[0m\n",
      "\u001b[0;31mKeyboardInterrupt\u001b[0m: "
     ]
    }
   ],
   "source": [
    "bs=20\n",
    "make_trainable(dis,True)\n",
    "\n",
    "for epoch in range(100):\n",
    "    for i in range(100):\n",
    "        ind=np.random.permutation(X.shape[0])[0:bs]\n",
    "        data=X[(ind)]        \n",
    "        data2=Y[(ind)]\n",
    "        gen_im=gen.predict(data)\n",
    "        train_D = np.concatenate((data2, gen_im))\n",
    "        y_D=np.zeros((2*bs,2))\n",
    "        y_D[0:bs,1]=1\n",
    "        y_D[bs:,0]=1\n",
    "        d_loss  = dis.train_on_batch(train_D,y_D)\n",
    "        #print(gen_im.shape)\n",
    "\n",
    "        y_G=np.zeros((bs,2))\n",
    "        y_G[:,1]=1\n",
    "        g_loss=GAN.train_on_batch(data,y_G)\n",
    "        if(i%40==0):\n",
    "            print((epoch,i,d_loss,g_loss))\n",
    "        #break\n",
    "    #break"
   ]
  },
  {
   "cell_type": "code",
   "execution_count": 12,
   "metadata": {},
   "outputs": [],
   "source": [
    "import scipy.misc as sm\n",
    "temp=gen.predict(Xtest[50:51,:])\n",
    "sm.imsave('vap.png',temp.reshape((32,32,3)))\n",
    "sm.imsave('vap2.png',Ytest[50:51].reshape((32,32,3)))\n"
   ]
  },
  {
   "cell_type": "code",
   "execution_count": null,
   "metadata": {},
   "outputs": [],
   "source": []
  },
  {
   "cell_type": "code",
   "execution_count": null,
   "metadata": {
    "collapsed": true,
    "scrolled": true
   },
   "outputs": [],
   "source": []
  },
  {
   "cell_type": "code",
   "execution_count": null,
   "metadata": {
    "collapsed": true
   },
   "outputs": [],
   "source": []
  },
  {
   "cell_type": "code",
   "execution_count": null,
   "metadata": {
    "collapsed": true
   },
   "outputs": [],
   "source": [
    "\n"
   ]
  },
  {
   "cell_type": "code",
   "execution_count": null,
   "metadata": {
    "collapsed": true
   },
   "outputs": [],
   "source": []
  },
  {
   "cell_type": "code",
   "execution_count": null,
   "metadata": {
    "collapsed": true
   },
   "outputs": [],
   "source": []
  },
  {
   "cell_type": "code",
   "execution_count": null,
   "metadata": {
    "collapsed": true
   },
   "outputs": [],
   "source": []
  },
  {
   "cell_type": "code",
   "execution_count": null,
   "metadata": {
    "collapsed": true
   },
   "outputs": [],
   "source": []
  },
  {
   "cell_type": "code",
   "execution_count": null,
   "metadata": {
    "collapsed": true
   },
   "outputs": [],
   "source": []
  },
  {
   "cell_type": "code",
   "execution_count": null,
   "metadata": {
    "collapsed": true
   },
   "outputs": [],
   "source": []
  },
  {
   "cell_type": "code",
   "execution_count": null,
   "metadata": {
    "collapsed": true
   },
   "outputs": [],
   "source": []
  }
 ],
 "metadata": {
  "kernelspec": {
   "display_name": "Python 2",
   "language": "python",
   "name": "python2"
  },
  "language_info": {
   "codemirror_mode": {
    "name": "ipython",
    "version": 2
   },
   "file_extension": ".py",
   "mimetype": "text/x-python",
   "name": "python",
   "nbconvert_exporter": "python",
   "pygments_lexer": "ipython2",
   "version": "2.7.6"
  }
 },
 "nbformat": 4,
 "nbformat_minor": 2
}
