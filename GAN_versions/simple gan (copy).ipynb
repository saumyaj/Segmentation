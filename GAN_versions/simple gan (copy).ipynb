{
 "cells": [
  {
   "cell_type": "code",
   "execution_count": 1,
   "metadata": {},
   "outputs": [
    {
     "name": "stderr",
     "output_type": "stream",
     "text": [
      "Using TensorFlow backend.\n"
     ]
    }
   ],
   "source": [
    "from __future__ import print_function\n",
    "import argparse\n",
    "import os\n",
    "import random\n",
    "\n",
    "import numpy\n",
    "\n",
    "from keras.models import Sequential\n",
    "from keras.layers import Dense\n",
    "from keras.wrappers.scikit_learn import KerasRegressor\n",
    "from sklearn.model_selection import cross_val_score\n",
    "from sklearn.model_selection import KFold\n",
    "from sklearn.preprocessing import StandardScaler\n",
    "from sklearn.pipeline import Pipeline\n",
    "from keras.utils import np_utils\n",
    "import keras.models as models\n",
    "from keras.layers import Input,merge\n",
    "from keras.layers.core import Reshape,Dense,Dropout,Activation,Flatten\n",
    "from keras.layers.advanced_activations import LeakyReLU\n",
    "from keras.activations import *\n",
    "from keras.layers.wrappers import TimeDistributed\n",
    "from keras.layers.noise import GaussianNoise\n",
    "from keras.layers.convolutional import Convolution2D, MaxPooling2D, ZeroPadding2D, UpSampling2D,Conv2DTranspose\n",
    "from keras.layers.recurrent import LSTM\n",
    "from keras.regularizers import *\n",
    "from keras.layers.normalization import *\n",
    "from keras.optimizers import *"
   ]
  },
  {
   "cell_type": "code",
   "execution_count": 2,
   "metadata": {
    "collapsed": true
   },
   "outputs": [],
   "source": [
    "dataset='cifar10'\n",
    "dataroot='f1'\n",
    "workers=1\n",
    "batchSize=5\n",
    "imageSize=32\n",
    "nz=400\n",
    "ngf=64\n",
    "ndf=64\n",
    "niter=25\n",
    "lr=0.0002\n",
    "beta1=0.5\n",
    "cuda=True\n",
    "ngpu=1\n",
    "netG=''\n",
    "netD=''\n",
    "outf='f1'\n",
    "manualSeed=10\n",
    "try:\n",
    "    os.makedirs(outf)\n",
    "except OSError:\n",
    "    pass\n"
   ]
  },
  {
   "cell_type": "code",
   "execution_count": 3,
   "metadata": {},
   "outputs": [
    {
     "name": "stdout",
     "output_type": "stream",
     "text": [
      "0\n",
      "1\n",
      "2\n",
      "3\n",
      "4\n",
      "5\n",
      "6\n",
      "7\n",
      "8\n",
      "9\n",
      "10\n",
      "11\n",
      "12\n",
      "13\n",
      "14\n",
      "15\n",
      "16\n",
      "17\n",
      "18\n",
      "19\n",
      "20\n",
      "21\n",
      "22\n",
      "23\n",
      "24\n",
      "25\n",
      "26\n",
      "27\n",
      "28\n",
      "29\n",
      "30\n",
      "31\n",
      "32\n",
      "33\n",
      "34\n",
      "35\n",
      "36\n",
      "37\n",
      "38\n",
      "39\n",
      "40\n",
      "41\n",
      "42\n",
      "43\n",
      "44\n",
      "45\n",
      "46\n",
      "47\n",
      "48\n",
      "49\n",
      "50\n",
      "51\n",
      "52\n",
      "53\n",
      "54\n",
      "55\n",
      "56\n",
      "57\n",
      "58\n",
      "59\n",
      "60\n",
      "61\n",
      "62\n",
      "63\n",
      "64\n",
      "65\n",
      "66\n",
      "67\n",
      "68\n",
      "69\n",
      "70\n",
      "71\n",
      "72\n",
      "73\n",
      "74\n",
      "75\n",
      "76\n",
      "77\n",
      "78\n",
      "79\n",
      "80\n",
      "81\n",
      "82\n",
      "83\n",
      "84\n",
      "85\n",
      "86\n",
      "87\n",
      "88\n",
      "89\n",
      "90\n",
      "91\n",
      "92\n",
      "93\n",
      "94\n",
      "95\n",
      "96\n",
      "97\n",
      "98\n",
      "99\n",
      "100\n",
      "101\n",
      "102\n",
      "103\n",
      "104\n",
      "105\n",
      "106\n",
      "107\n",
      "108\n",
      "109\n",
      "110\n",
      "111\n",
      "112\n",
      "113\n",
      "114\n",
      "115\n",
      "116\n",
      "117\n",
      "118\n",
      "119\n",
      "120\n",
      "121\n",
      "122\n",
      "123\n",
      "124\n",
      "125\n",
      "126\n",
      "127\n",
      "128\n",
      "129\n",
      "130\n",
      "131\n",
      "132\n",
      "133\n",
      "134\n",
      "135\n",
      "136\n",
      "137\n",
      "138\n",
      "139\n",
      "140\n",
      "141\n",
      "142\n",
      "143\n",
      "144\n",
      "145\n",
      "146\n",
      "147\n",
      "148\n",
      "149\n",
      "150\n",
      "151\n",
      "152\n",
      "153\n",
      "154\n",
      "155\n",
      "156\n",
      "157\n",
      "158\n",
      "159\n",
      "160\n",
      "161\n",
      "162\n",
      "163\n",
      "164\n",
      "165\n",
      "166\n",
      "167\n",
      "168\n",
      "169\n",
      "170\n",
      "171\n",
      "172\n",
      "173\n",
      "174\n",
      "175\n",
      "176\n",
      "177\n",
      "178\n",
      "179\n",
      "180\n",
      "181\n",
      "182\n",
      "183\n",
      "184\n",
      "185\n",
      "186\n",
      "187\n",
      "188\n",
      "189\n",
      "190\n",
      "191\n",
      "192\n",
      "193\n",
      "194\n",
      "195\n",
      "196\n",
      "197\n",
      "198\n",
      "199\n",
      "200\n",
      "201\n",
      "202\n",
      "203\n",
      "204\n",
      "205\n",
      "206\n",
      "207\n",
      "208\n",
      "209\n",
      "210\n",
      "211\n",
      "212\n",
      "213\n",
      "214\n",
      "215\n",
      "216\n",
      "217\n",
      "218\n",
      "219\n",
      "220\n",
      "221\n",
      "222\n",
      "223\n",
      "224\n",
      "225\n",
      "226\n",
      "227\n",
      "228\n",
      "229\n",
      "230\n",
      "231\n",
      "232\n",
      "233\n",
      "234\n",
      "235\n",
      "236\n",
      "237\n",
      "238\n",
      "239\n",
      "240\n",
      "241\n",
      "242\n",
      "243\n",
      "244\n",
      "245\n",
      "246\n",
      "247\n",
      "248\n",
      "249\n"
     ]
    }
   ],
   "source": [
    "import os\n",
    "I='A/test/'\n",
    "ls1=os.listdir(I)\n",
    "M='B/test/'\n",
    "ls2=os.listdir(M)\n",
    "\n",
    "import scipy.misc as sm\n",
    "import numpy as np\n",
    "import scipy.io as si\n",
    "names=[]\n",
    "lls2=len(ls2)\n",
    "m=int(0.9*lls2)\n",
    "\n",
    "X=np.zeros((m,256,256,3))\n",
    "Y=np.zeros((m,256,256,3))\n",
    "Xtest=np.zeros((lls2-m,256,256,3))\n",
    "Ytest=np.zeros((lls2-m,256,256,3))\n",
    "count=0\n",
    "for ind,i in enumerate(ls2):\n",
    "    print(ind)\n",
    "    if(ind<m):\n",
    "        names.append(i)\n",
    "        #temp=i.split('__')[0]\n",
    "        tmp1=sm.imread(I+i)\n",
    "        X[ind,:]=tmp1/255.0\n",
    "        tmp1=sm.imread(M+i)\n",
    "        Y[ind,:]=tmp1/255.0\n",
    "    else:\n",
    "        #break\n",
    "        names.append(i)\n",
    "        tmp1=sm.imread(I+i)\n",
    "        Xtest[count,:]=tmp1/255.0\n",
    "        tmp1=sm.imread(M+i)\n",
    "        Ytest[count,:]=tmp1/255.0\n",
    "        count=count+1\n",
    "    \n",
    "    \n",
    "    \n",
    "    \n",
    "    "
   ]
  },
  {
   "cell_type": "code",
   "execution_count": null,
   "metadata": {
    "collapsed": true
   },
   "outputs": [],
   "source": [
    "\n"
   ]
  },
  {
   "cell_type": "code",
   "execution_count": null,
   "metadata": {
    "collapsed": true
   },
   "outputs": [],
   "source": []
  },
  {
   "cell_type": "code",
   "execution_count": null,
   "metadata": {
    "collapsed": true
   },
   "outputs": [],
   "source": []
  },
  {
   "cell_type": "code",
   "execution_count": 39,
   "metadata": {
    "collapsed": true
   },
   "outputs": [],
   "source": [
    "def larger_model():\n",
    "    model = Sequential()\n",
    "    model.add(Convolution2D(32,(4,4),strides=2,input_shape=(256,256,3) ))\n",
    "    model.add(ZeroPadding2D((1,1)))\n",
    "    model.add(LeakyReLU(0.3))\n",
    "    model.add(Convolution2D(32*2,(4,4),strides=2 ))\n",
    "    model.add(LeakyReLU(0.3))\n",
    "    model.add(Convolution2D(32*4,(4,4),strides=2))\n",
    "    model.add(LeakyReLU(0.3))\n",
    "    model.add(Convolution2D(32*4,(4,4),strides=2 ))\n",
    "    model.add(LeakyReLU(0.3))\n",
    "    model.add(Convolution2D(32*4,(4,4),strides=2))\n",
    "    model.add(LeakyReLU(0.3))\n",
    "    model.add(Conv2DTranspose(32*4,(4,4),strides=2))\n",
    "    model.add(LeakyReLU(0.3))\n",
    "    model.add(Conv2DTranspose(32*4,(4,4),strides=2))\n",
    "    model.add(LeakyReLU(0.3))\n",
    "    model.add(Conv2DTranspose(32*2,(4,4),strides=2))\n",
    "    model.add(LeakyReLU(0.3))\n",
    "    model.add(Conv2DTranspose(32,(4,4),strides=2))\n",
    "    model.add(LeakyReLU(0.3))\n",
    "    model.add(ZeroPadding2D((1,1)))\n",
    "    model.add(Conv2DTranspose(3,(4,4),strides=2))\n",
    "    model.add(LeakyReLU(0.3))\n",
    "    #model.add(Conv2DTranspose(3,(2,2),strides=2))\n",
    "    return model\n"
   ]
  },
  {
   "cell_type": "code",
   "execution_count": 48,
   "metadata": {
    "collapsed": true
   },
   "outputs": [],
   "source": [
    "def discr():\n",
    "    model = Sequential()\n",
    "    model.add(Convolution2D(32,(4,4),activation='relu',strides=2,input_shape=(256,256,3) ))\n",
    "    model.add(ZeroPadding2D((1,1)))\n",
    "    model.add(Convolution2D(32*2,(4,4),activation='relu',strides=2 ))\n",
    "    model.add(Convolution2D(32*4,(4,4),activation='relu',strides=2))\n",
    "    model.add(Convolution2D(32*2,(4,4),activation='relu',strides=2))\n",
    "    model.add(Convolution2D(1,(4,4),activation='sigmoid',strides=2))\n",
    "    \n",
    "    model.compile(loss='binary_crossentropy', optimizer='adam')\n",
    "    return model\n"
   ]
  },
  {
   "cell_type": "code",
   "execution_count": null,
   "metadata": {
    "collapsed": true
   },
   "outputs": [],
   "source": []
  },
  {
   "cell_type": "code",
   "execution_count": null,
   "metadata": {
    "collapsed": true
   },
   "outputs": [],
   "source": []
  },
  {
   "cell_type": "code",
   "execution_count": 49,
   "metadata": {},
   "outputs": [],
   "source": [
    "def make_trainable(net, val):\n",
    "    net.trainable = val\n",
    "    for l in net.layers:\n",
    "        l.trainable = val\n",
    "        \n",
    "gen=larger_model()\n",
    "dis=discr()\n",
    "make_trainable(dis, False)"
   ]
  },
  {
   "cell_type": "code",
   "execution_count": 50,
   "metadata": {
    "collapsed": true
   },
   "outputs": [],
   "source": [
    "def mixed(x,y):\n",
    "    model=Sequential()\n",
    "    model.add(x)\n",
    "    model.add(y)\n",
    "    model.compile(loss='binary_crossentropy', optimizer='adam')\n",
    "    return model\n",
    "    "
   ]
  },
  {
   "cell_type": "code",
   "execution_count": 51,
   "metadata": {},
   "outputs": [
    {
     "name": "stdout",
     "output_type": "stream",
     "text": [
      "_________________________________________________________________\n",
      "Layer (type)                 Output Shape              Param #   \n",
      "=================================================================\n",
      "sequential_15 (Sequential)   (None, 256, 256, 3)       1380163   \n",
      "_________________________________________________________________\n",
      "sequential_16 (Sequential)   (None, 6, 6, 1)           297761    \n",
      "=================================================================\n",
      "Total params: 1,677,924\n",
      "Trainable params: 1,380,163\n",
      "Non-trainable params: 297,761\n",
      "_________________________________________________________________\n"
     ]
    }
   ],
   "source": [
    "GAN=mixed(gen,dis)\n",
    "GAN.summary()"
   ]
  },
  {
   "cell_type": "code",
   "execution_count": 52,
   "metadata": {},
   "outputs": [
    {
     "name": "stdout",
     "output_type": "stream",
     "text": [
      "_________________________________________________________________\n",
      "Layer (type)                 Output Shape              Param #   \n",
      "=================================================================\n",
      "conv2d_45 (Conv2D)           (None, 127, 127, 32)      1568      \n",
      "_________________________________________________________________\n",
      "leaky_re_lu_22 (LeakyReLU)   (None, 127, 127, 32)      0         \n",
      "_________________________________________________________________\n",
      "conv2d_46 (Conv2D)           (None, 62, 62, 64)        32832     \n",
      "_________________________________________________________________\n",
      "leaky_re_lu_23 (LeakyReLU)   (None, 62, 62, 64)        0         \n",
      "_________________________________________________________________\n",
      "conv2d_47 (Conv2D)           (None, 30, 30, 128)       131200    \n",
      "_________________________________________________________________\n",
      "leaky_re_lu_24 (LeakyReLU)   (None, 30, 30, 128)       0         \n",
      "_________________________________________________________________\n",
      "conv2d_48 (Conv2D)           (None, 14, 14, 128)       262272    \n",
      "_________________________________________________________________\n",
      "leaky_re_lu_25 (LeakyReLU)   (None, 14, 14, 128)       0         \n",
      "_________________________________________________________________\n",
      "conv2d_49 (Conv2D)           (None, 6, 6, 128)         262272    \n",
      "_________________________________________________________________\n",
      "leaky_re_lu_26 (LeakyReLU)   (None, 6, 6, 128)         0         \n",
      "_________________________________________________________________\n",
      "conv2d_transpose_17 (Conv2DT (None, 14, 14, 128)       262272    \n",
      "_________________________________________________________________\n",
      "leaky_re_lu_27 (LeakyReLU)   (None, 14, 14, 128)       0         \n",
      "_________________________________________________________________\n",
      "conv2d_transpose_18 (Conv2DT (None, 30, 30, 128)       262272    \n",
      "_________________________________________________________________\n",
      "leaky_re_lu_28 (LeakyReLU)   (None, 30, 30, 128)       0         \n",
      "_________________________________________________________________\n",
      "conv2d_transpose_19 (Conv2DT (None, 62, 62, 64)        131136    \n",
      "_________________________________________________________________\n",
      "leaky_re_lu_29 (LeakyReLU)   (None, 62, 62, 64)        0         \n",
      "_________________________________________________________________\n",
      "conv2d_transpose_20 (Conv2DT (None, 126, 126, 32)      32800     \n",
      "_________________________________________________________________\n",
      "leaky_re_lu_30 (LeakyReLU)   (None, 126, 126, 32)      0         \n",
      "_________________________________________________________________\n",
      "conv2d_transpose_21 (Conv2DT (None, 254, 254, 3)       1539      \n",
      "_________________________________________________________________\n",
      "leaky_re_lu_31 (LeakyReLU)   (None, 254, 254, 3)       0         \n",
      "_________________________________________________________________\n",
      "zero_padding2d_9 (ZeroPaddin (None, 256, 256, 3)       0         \n",
      "=================================================================\n",
      "Total params: 1,380,163\n",
      "Trainable params: 1,380,163\n",
      "Non-trainable params: 0\n",
      "_________________________________________________________________\n"
     ]
    }
   ],
   "source": [
    "gen.summary()"
   ]
  },
  {
   "cell_type": "code",
   "execution_count": 53,
   "metadata": {},
   "outputs": [
    {
     "name": "stdout",
     "output_type": "stream",
     "text": [
      "_________________________________________________________________\n",
      "Layer (type)                 Output Shape              Param #   \n",
      "=================================================================\n",
      "conv2d_50 (Conv2D)           (None, 127, 127, 32)      1568      \n",
      "_________________________________________________________________\n",
      "zero_padding2d_10 (ZeroPaddi (None, 129, 129, 32)      0         \n",
      "_________________________________________________________________\n",
      "conv2d_51 (Conv2D)           (None, 63, 63, 64)        32832     \n",
      "_________________________________________________________________\n",
      "conv2d_52 (Conv2D)           (None, 30, 30, 128)       131200    \n",
      "_________________________________________________________________\n",
      "conv2d_53 (Conv2D)           (None, 14, 14, 64)        131136    \n",
      "_________________________________________________________________\n",
      "conv2d_54 (Conv2D)           (None, 6, 6, 1)           1025      \n",
      "=================================================================\n",
      "Total params: 297,761\n",
      "Trainable params: 0\n",
      "Non-trainable params: 297,761\n",
      "_________________________________________________________________\n"
     ]
    }
   ],
   "source": [
    "dis.summary()"
   ]
  },
  {
   "cell_type": "code",
   "execution_count": null,
   "metadata": {},
   "outputs": [
    {
     "name": "stdout",
     "output_type": "stream",
     "text": [
      "(0, 0, 8.0590515, 16.118103)\n",
      "(0, 40, 8.0590515, 16.118103)\n",
      "(0, 80, 8.0590515, 16.118103)\n",
      "(1, 0, 8.0590515, 16.118103)\n",
      "(1, 40, 8.0590515, 16.118103)\n",
      "(1, 80, 8.0590515, 16.118103)\n",
      "(2, 0, 8.0590515, 16.118103)\n",
      "(2, 40, 8.0590515, 16.118103)\n",
      "(2, 80, 8.0590515, 16.118103)\n",
      "(3, 0, 8.0590515, 16.118103)\n",
      "(3, 40, 8.0590515, 16.118103)\n",
      "(3, 80, 8.0590515, 16.118103)\n",
      "(4, 0, 8.0590515, 16.118103)\n"
     ]
    }
   ],
   "source": [
    "bs=20\n",
    "make_trainable(dis,True)\n",
    "\n",
    "for epoch in range(10):\n",
    "    for i in range(100):\n",
    "        ind=np.random.permutation(X.shape[0])[0:bs]\n",
    "        data=X[(ind)]        \n",
    "        data2=Y[(ind)]\n",
    "\n",
    "        gen_im=gen.predict(data)\n",
    "        train_D = np.concatenate((data2, gen_im))\n",
    "        \n",
    "        y_D=np.zeros((2*bs,6,6,1))\n",
    "        y_D[0:bs,:]=1\n",
    "        y_D[bs:,:]=0\n",
    "        d_loss  = dis.train_on_batch(train_D,y_D)\n",
    "        #print(gen_im.shape)\n",
    "\n",
    "        y_G=np.zeros((bs,6,6,1))\n",
    "        y_G[:,:]=1\n",
    "        make_trainable(dis,False)\n",
    "        g_loss=GAN.train_on_batch(data,y_G)\n",
    "        make_trainable(dis,True)\n",
    "        if(i%40==0):\n",
    "            print((epoch,i,d_loss,g_loss))\n",
    "        #break\n",
    "    #break"
   ]
  },
  {
   "cell_type": "code",
   "execution_count": 56,
   "metadata": {},
   "outputs": [],
   "source": [
    "import scipy.misc as sm\n",
    "#print(X[50:51,:])\n",
    "temp=gen.predict(X[50:51,:])\n",
    "#print(temp)\n",
    "sm.imsave('vap.png',temp.reshape((256,256,3)))\n",
    "sm.imsave('vap2.png',Y[50:51].reshape((256,256,3)))\n"
   ]
  },
  {
   "cell_type": "code",
   "execution_count": null,
   "metadata": {
    "collapsed": true
   },
   "outputs": [],
   "source": []
  },
  {
   "cell_type": "code",
   "execution_count": null,
   "metadata": {
    "collapsed": true,
    "scrolled": true
   },
   "outputs": [],
   "source": []
  },
  {
   "cell_type": "code",
   "execution_count": null,
   "metadata": {
    "collapsed": true
   },
   "outputs": [],
   "source": []
  },
  {
   "cell_type": "code",
   "execution_count": null,
   "metadata": {
    "collapsed": true
   },
   "outputs": [],
   "source": [
    "\n"
   ]
  },
  {
   "cell_type": "code",
   "execution_count": null,
   "metadata": {
    "collapsed": true
   },
   "outputs": [],
   "source": []
  },
  {
   "cell_type": "code",
   "execution_count": null,
   "metadata": {
    "collapsed": true
   },
   "outputs": [],
   "source": []
  },
  {
   "cell_type": "code",
   "execution_count": null,
   "metadata": {
    "collapsed": true
   },
   "outputs": [],
   "source": []
  },
  {
   "cell_type": "code",
   "execution_count": null,
   "metadata": {
    "collapsed": true
   },
   "outputs": [],
   "source": []
  },
  {
   "cell_type": "code",
   "execution_count": null,
   "metadata": {
    "collapsed": true
   },
   "outputs": [],
   "source": []
  },
  {
   "cell_type": "code",
   "execution_count": null,
   "metadata": {
    "collapsed": true
   },
   "outputs": [],
   "source": []
  },
  {
   "cell_type": "code",
   "execution_count": null,
   "metadata": {
    "collapsed": true
   },
   "outputs": [],
   "source": []
  },
  {
   "cell_type": "code",
   "execution_count": null,
   "metadata": {
    "collapsed": true
   },
   "outputs": [],
   "source": []
  },
  {
   "cell_type": "code",
   "execution_count": null,
   "metadata": {
    "collapsed": true
   },
   "outputs": [],
   "source": []
  },
  {
   "cell_type": "code",
   "execution_count": null,
   "metadata": {
    "collapsed": true
   },
   "outputs": [],
   "source": [
    "\n"
   ]
  }
 ],
 "metadata": {
  "kernelspec": {
   "display_name": "Python 2",
   "language": "python",
   "name": "python2"
  },
  "language_info": {
   "codemirror_mode": {
    "name": "ipython",
    "version": 2
   },
   "file_extension": ".py",
   "mimetype": "text/x-python",
   "name": "python",
   "nbconvert_exporter": "python",
   "pygments_lexer": "ipython2",
   "version": "2.7.6"
  }
 },
 "nbformat": 4,
 "nbformat_minor": 2
}
