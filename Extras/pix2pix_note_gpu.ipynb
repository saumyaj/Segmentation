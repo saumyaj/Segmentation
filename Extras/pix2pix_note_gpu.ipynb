{
 "cells": [
  {
   "cell_type": "code",
   "execution_count": 1,
   "metadata": {
    "collapsed": true
   },
   "outputs": [],
   "source": [
    "from __future__ import print_function\n",
    "import os\n",
    "from math import log10\n",
    "\n",
    "import torch\n",
    "import torch.nn as nn\n",
    "import torch.optim as optim\n",
    "from torch.autograd import Variable\n",
    "from torch.utils.data import DataLoader\n",
    "from models import G, D, weights_init\n",
    "from data import get_training_set, get_test_set\n",
    "import torch.backends.cudnn as cudnn\n",
    "import os\n",
    "import random\n",
    "import torch\n",
    "import torch.nn as nn\n",
    "import torch.nn.parallel\n",
    "import torch.backends.cudnn as cudnn\n",
    "import torch.optim as optim\n",
    "import torch.utils.data\n",
    "import torchvision.datasets as dset\n",
    "import torchvision.transforms as transforms\n",
    "import torchvision.utils as vutils\n",
    "from torch.autograd import Variable\n",
    "#torch.backends.cudnn.enabled = False\n"
   ]
  },
  {
   "cell_type": "code",
   "execution_count": 2,
   "metadata": {
    "collapsed": true
   },
   "outputs": [],
   "source": [
    "import numpy as np"
   ]
  },
  {
   "cell_type": "code",
   "execution_count": null,
   "metadata": {
    "collapsed": true
   },
   "outputs": [],
   "source": []
  },
  {
   "cell_type": "code",
   "execution_count": 3,
   "metadata": {
    "scrolled": false
   },
   "outputs": [
    {
     "name": "stdout",
     "output_type": "stream",
     "text": [
      "256\n",
      "256\n",
      "19660800\n",
      "phew\n",
      "0\n",
      "(100, 3, 256, 256)\n"
     ]
    }
   ],
   "source": [
    "\n",
    "batchSize=10\n",
    "testBatchSize=10\n",
    "nEpochs=500000\n",
    "threads=2\n",
    "lamb=100\n",
    "seed=187\n",
    "cuda=True\n",
    "beta1=0.5\n",
    "lr=0.0002\n",
    "ndf=64\n",
    "ngf=64\n",
    "input_nc=3\n",
    "output_nc=3\n",
    "\n",
    "dataset='hdr'\n",
    "dataroot='all_batched_dataset_256/mat_files/'\n",
    "path=dataroot\n",
    "\n",
    "import os\n",
    "import scipy.io\n",
    "ls=os.listdir(path)\n",
    "#print ls\n",
    "xs=[]\n",
    "ys=[]\n",
    "#for idx,i in enumerate(ls):\n",
    "#    if(idx%100==0):\n",
    "#        print ((idx,'ls'))\n",
    "#    im1 = scipy.io.loadmat(path+i)\n",
    "#    im1=im1['im']\n",
    "#    xs.append(im1.shape[0])\n",
    "#    ys.append(im1.shape[1])\n",
    "s1=(256)\n",
    "s2=(256)\n",
    "print (s1)\n",
    "print (s2)\n",
    "imageSize=(s1,s2,3)\n",
    "\n",
    "s1x=256\n",
    "s2x=256\n",
    "##################\n",
    "ls=ls[0:100]\n",
    "\n",
    "#####################\n",
    "lls=len(ls)\n",
    "\n",
    "import numpy as np\n",
    "print (lls*3*s1*s2)\n",
    "#X=np.zeros((lls,3,s1,s2))\n",
    "#Y=np.zeros((lls,3,s1,s2))\n",
    "X=np.random.rand(lls,3,s1,s2)\n",
    "Y=np.random.rand(lls,3,s1x,s2x)\n",
    "\n",
    "print ('phew')\n",
    "count=0\n",
    "import Image\n",
    "for idx,i in enumerate(ls):\n",
    "    li=len(i)\n",
    "    i=i[0:li-4]\n",
    "    im1 = scipy.io.loadmat(path+i+'.mat')\n",
    "    im2=np.asarray(Image.open('all_batched_dataset_256/image_files/'+i+'.png'))    \n",
    "    im2=im2/255.0;\n",
    "    im1=im1['im']\n",
    "\n",
    "    X[count,0,:,:]=im1[:    , : ,0]\n",
    "    X[count,1,:,:]=im1[ :    , : ,1]\n",
    "    X[count,2,:,:]=im1[:    , : ,2]\n",
    "\n",
    "    Y[count,0, :    , : ]=im2[ :    , : ,0]\n",
    "    Y[count,1, :    , : ]=im2[ :    , : ,1]\n",
    "    Y[count,2, :    , : ]=im2[ :    , : ,2]\n",
    "    count=count+1\n",
    "    if(idx%1000==0):\n",
    "        print (idx)\n",
    "print(X.shape)\n",
    "\n",
    "\n",
    "if cuda and not torch.cuda.is_available():\n",
    "    raise Exception(\"No GPU found, please run without --cuda\")\n",
    "\n",
    "cudnn.benchmark = True\n",
    "\n",
    "torch.manual_seed(seed)\n",
    "if cuda:\n",
    "    torch.cuda.manual_seed(seed)\n",
    "\n",
    "\n"
   ]
  },
  {
   "cell_type": "code",
   "execution_count": 4,
   "metadata": {},
   "outputs": [
    {
     "name": "stdout",
     "output_type": "stream",
     "text": [
      "===> Building model\n"
     ]
    },
    {
     "data": {
      "text/plain": [
       "D (\n",
       "  (conv1): Conv2d(6, 64, kernel_size=(4, 4), stride=(2, 2), padding=(1, 1))\n",
       "  (conv2): Conv2d(64, 128, kernel_size=(4, 4), stride=(2, 2), padding=(1, 1))\n",
       "  (conv3): Conv2d(128, 256, kernel_size=(4, 4), stride=(2, 2), padding=(1, 1))\n",
       "  (conv4): Conv2d(256, 512, kernel_size=(4, 4), stride=(1, 1), padding=(1, 1))\n",
       "  (conv5): Conv2d(512, 1, kernel_size=(4, 4), stride=(1, 1), padding=(1, 1))\n",
       "  (batch_norm2): BatchNorm2d(128, eps=1e-05, momentum=0.1, affine=True)\n",
       "  (batch_norm4): BatchNorm2d(256, eps=1e-05, momentum=0.1, affine=True)\n",
       "  (batch_norm8): BatchNorm2d(512, eps=1e-05, momentum=0.1, affine=True)\n",
       "  (leaky_relu): LeakyReLU (0.2, inplace)\n",
       "  (sigmoid): Sigmoid ()\n",
       ")"
      ]
     },
     "execution_count": 4,
     "metadata": {},
     "output_type": "execute_result"
    }
   ],
   "source": [
    "\n",
    "def get_batch_train():\n",
    "    import numpy.random\n",
    "    pos=numpy.random.randint(0,X.shape[0],(batchSize))\n",
    "    x1=X[pos]\n",
    "    y1=Y[pos]\n",
    "    x1=torch.FloatTensor(x1)\n",
    "    y1=torch.FloatTensor(y1)\n",
    "    return (x1), (y1)\n",
    "\n",
    "\n",
    "x1,y1=get_batch_train()\n",
    "print('===> Building model')\n",
    "netG = G(input_nc, output_nc, ngf)\n",
    "netG.apply(weights_init)\n",
    "netD = D(input_nc, output_nc, ndf)\n",
    "netD.apply(weights_init)\n",
    "\n"
   ]
  },
  {
   "cell_type": "code",
   "execution_count": 5,
   "metadata": {
    "collapsed": true
   },
   "outputs": [],
   "source": [
    "criterion = nn.BCELoss()\n",
    "criterion_l1 = nn.L1Loss()\n",
    "criterion_mse = nn.MSELoss()\n",
    "\n",
    "real_A = torch.FloatTensor(batchSize, input_nc, s1, s2)\n",
    "fake_v = torch.FloatTensor(batchSize, input_nc, s1, s2)\n",
    "real_B = torch.FloatTensor(batchSize, output_nc, s1x, s2x)\n",
    "label = torch.FloatTensor(batchSize)\n",
    "real_label = 1\n",
    "fake_label = 0\n",
    "\n",
    "if cuda:\n",
    "    netD = netD.cuda()\n",
    "    netG = netG.cuda()\n",
    "    criterion = criterion.cuda()\n",
    "    criterion_l1 = criterion_l1.cuda()\n",
    "    criterion_mse = criterion_mse.cuda()\n",
    "    real_A = real_A.cuda()\n",
    "    real_B = real_B.cuda()\n",
    "    fake_v = fake_v.cuda()\n",
    "    \n",
    "    label = label.cuda()\n",
    "\n",
    "\n",
    "real_A = Variable(real_A)\n",
    "fake_v = Variable(fake_v)\n",
    "real_B = Variable(real_B)\n",
    "label = Variable(label)\n",
    "\n",
    "# setup optimizer\n",
    "optimizerD = optim.Adam(netD.parameters(), lr=lr, betas=(beta1, 0.999))\n",
    "optimizerG = optim.Adam(netG.parameters(), lr=lr, betas=(beta1, 0.999))\n",
    "\n"
   ]
  },
  {
   "cell_type": "code",
   "execution_count": 6,
   "metadata": {
    "collapsed": true
   },
   "outputs": [],
   "source": [
    "\n",
    "outf='output_dilated_true/'\n",
    "def train(epoch):\n",
    "    for iteration in range(10):        \n",
    "        batchX,batchY=get_batch_train()\n",
    "        batch=(batchX,batchY)\n",
    "        print ('ga')\n",
    "        ############################\n",
    "        # (1) Update D network: maximize log(D(x,y)) + log(1 - D(x,G(x)))\n",
    "        ###########################\n",
    "        # train with real\n",
    "        netD.volatile = False\n",
    "        netD.zero_grad()\n",
    "        real_a_cpu, real_b_cpu = batch[0], batch[1]\n",
    "        #print(real_a_cpu)\n",
    "        #print (real_a_cpu)\n",
    "        #print (type(real_b_cpu))\n",
    "        #print ((real_A.data))\n",
    "        \n",
    "        \n",
    "        real_A.data.resize_(real_a_cpu.size()).copy_(real_a_cpu)\n",
    "        real_B.data.resize_(real_b_cpu.size()).copy_(real_b_cpu)\n",
    "\n",
    "        output = netD(torch.cat(  (real_A, real_B), 1))\n",
    "        label.data.resize_(output.size()).fill_(real_label)\n",
    "        err_d_real = criterion(output, label)\n",
    "        err_d_real.backward()\n",
    "        d_x_y = output.data.mean()\n",
    "\n",
    "        # train with fake\n",
    "        fake_b = netG(real_A)\n",
    "        '''\n",
    "        import numpy as np\n",
    "        xxva2= np.zeros((batchSize,3,s1,s2))\n",
    "        xxva=(fake_b.data.numpy())\n",
    "        for va1 in range(batchSize):\n",
    "            xxva2[va1,:,5:s1-5,5:s1-5]=xxva[va1,:,:,:]\n",
    "            \n",
    "        \n",
    "        print (xxva2.shape)\n",
    "        \n",
    "        fake_b=Variable(torch.from_numpy(xxva2   ).float().cuda())\n",
    "        '''\n",
    "        \n",
    "        output = netD(torch.cat((real_A, fake_b.detach()), 1))\n",
    "        label.data.resize_(output.size()).fill_(fake_label)\n",
    "        err_d_fake = criterion(output, label)\n",
    "        err_d_fake.backward()\n",
    "        d_x_gx = output.data.mean()\n",
    "\n",
    "        err_d = (err_d_real + err_d_fake) / 2.0\n",
    "        optimizerD.step()\n",
    "\n",
    "        ############################\n",
    "        # (2) Update G network: maximize log(D(x,G(x))) + L1(y,G(x))\n",
    "        ###########################\n",
    "        netG.zero_grad()\n",
    "        netD.volatile = True\n",
    "        output = netD(torch.cat((real_A, fake_b), 1))\n",
    "        label.data.resize_(output.size()).fill_(real_label)\n",
    "        err_g = criterion(output, label) + lamb * criterion_l1(fake_v, real_B)\n",
    "        err_g.backward()\n",
    "        d_x_gx_2 = output.data.mean()\n",
    "        optimizerG.step()\n",
    "\n",
    "        print(\"===> Epoch[{}]({}/{}): Loss_D: {:.4f} Loss_G: {:.4f} D(x): {:.4f} D(G(z)): {:.4f}/{:.4f}\".format(\n",
    "            epoch, iteration, 10, err_d.data[0], err_g.data[0], d_x_y, d_x_gx, d_x_gx_2))\n",
    "\n",
    "\n",
    "        if(iteration==9 and epoch % 5==0):\n",
    "            import numpy as np\n",
    "            ss=Y.shape[0]\n",
    "            xyvap=np.random.randint(ss)\n",
    "            #vutils.save_image(Y[xyvap],\n",
    "            #        '%s/real_samples.png' % outf)\n",
    "\n",
    "            ddv=X[xyvap:xyvap+1]\n",
    "            #print (ddv.shape)\n",
    "            ddv2=Variable(torch.from_numpy(ddv).float().cuda())\n",
    "\n",
    "            ddv3=Y[xyvap:xyvap+1]\n",
    "            #print (ddv.shape)\n",
    "            ddv4=Variable(torch.from_numpy(ddv3).float().cuda())\n",
    "            #print (ddv2)\n",
    "            fake = netG(ddv2)\n",
    "            #print (fake.data)\n",
    "            #print (ddv4)\n",
    "\n",
    "            vutils.save_image(fake.data,\n",
    "                    '%s/samples_epoch_%03d.png' % (outf, epoch) , normalize=False)\n",
    "            vutils.save_image(ddv4.data,\n",
    "                    '%s/samples_epoch_%03d.png' % (outf, epoch+1), normalize=False)\n",
    "\n"
   ]
  },
  {
   "cell_type": "code",
   "execution_count": 7,
   "metadata": {
    "scrolled": true
   },
   "outputs": [
    {
     "name": "stdout",
     "output_type": "stream",
     "text": [
      "0\n",
      "ga\n",
      "('e1', torch.Size([10, 64, 257, 257]))\n",
      "('e2', torch.Size([10, 128, 255, 255]))\n",
      "('e3', torch.Size([10, 256, 251, 251]))\n",
      "('e3', torch.Size([10, 256, 243, 243]))\n",
      "('e3', torch.Size([10, 256, 243, 243]))\n",
      "('e3', torch.Size([10, 256, 243, 243]))\n",
      "('e3', torch.Size([10, 256, 243, 243]))\n"
     ]
    },
    {
     "ename": "RuntimeError",
     "evalue": "inconsistent tensor sizes at /b/wheel/pytorch-src/torch/lib/THC/generic/THCTensorMath.cu:141",
     "output_type": "error",
     "traceback": [
      "\u001b[0;31m---------------------------------------------------------------------------\u001b[0m",
      "\u001b[0;31mRuntimeError\u001b[0m                              Traceback (most recent call last)",
      "\u001b[0;32m<ipython-input-7-aede8a6fed68>\u001b[0m in \u001b[0;36m<module>\u001b[0;34m()\u001b[0m\n\u001b[1;32m     29\u001b[0m \u001b[0;32mfor\u001b[0m \u001b[0mepoch\u001b[0m \u001b[0;32min\u001b[0m \u001b[0mrange\u001b[0m\u001b[0;34m(\u001b[0m\u001b[0;36m0\u001b[0m\u001b[0;34m,\u001b[0m \u001b[0mnEpochs\u001b[0m \u001b[0;34m+\u001b[0m \u001b[0;36m1\u001b[0m\u001b[0;34m)\u001b[0m\u001b[0;34m:\u001b[0m\u001b[0;34m\u001b[0m\u001b[0m\n\u001b[1;32m     30\u001b[0m     \u001b[0;32mprint\u001b[0m \u001b[0;34m(\u001b[0m\u001b[0mepoch\u001b[0m\u001b[0;34m)\u001b[0m\u001b[0;34m\u001b[0m\u001b[0m\n\u001b[0;32m---> 31\u001b[0;31m     \u001b[0mtrain\u001b[0m\u001b[0;34m(\u001b[0m\u001b[0mepoch\u001b[0m\u001b[0;34m)\u001b[0m\u001b[0;34m\u001b[0m\u001b[0m\n\u001b[0m\u001b[1;32m     32\u001b[0m     \u001b[0;31m#test()\u001b[0m\u001b[0;34m\u001b[0m\u001b[0;34m\u001b[0m\u001b[0m\n\u001b[1;32m     33\u001b[0m     \u001b[0;32mif\u001b[0m \u001b[0mepoch\u001b[0m \u001b[0;34m%\u001b[0m \u001b[0;36m50\u001b[0m \u001b[0;34m==\u001b[0m \u001b[0;36m0\u001b[0m\u001b[0;34m:\u001b[0m\u001b[0;34m\u001b[0m\u001b[0m\n",
      "\u001b[0;32m<ipython-input-6-f86f545cdc74>\u001b[0m in \u001b[0;36mtrain\u001b[0;34m(epoch)\u001b[0m\n\u001b[1;32m     43\u001b[0m         '''\n\u001b[1;32m     44\u001b[0m \u001b[0;34m\u001b[0m\u001b[0m\n\u001b[0;32m---> 45\u001b[0;31m         \u001b[0moutput\u001b[0m \u001b[0;34m=\u001b[0m \u001b[0mnetD\u001b[0m\u001b[0;34m(\u001b[0m\u001b[0mtorch\u001b[0m\u001b[0;34m.\u001b[0m\u001b[0mcat\u001b[0m\u001b[0;34m(\u001b[0m\u001b[0;34m(\u001b[0m\u001b[0mreal_A\u001b[0m\u001b[0;34m,\u001b[0m \u001b[0mfake_b\u001b[0m\u001b[0;34m.\u001b[0m\u001b[0mdetach\u001b[0m\u001b[0;34m(\u001b[0m\u001b[0;34m)\u001b[0m\u001b[0;34m)\u001b[0m\u001b[0;34m,\u001b[0m \u001b[0;36m1\u001b[0m\u001b[0;34m)\u001b[0m\u001b[0;34m)\u001b[0m\u001b[0;34m\u001b[0m\u001b[0m\n\u001b[0m\u001b[1;32m     46\u001b[0m         \u001b[0mlabel\u001b[0m\u001b[0;34m.\u001b[0m\u001b[0mdata\u001b[0m\u001b[0;34m.\u001b[0m\u001b[0mresize_\u001b[0m\u001b[0;34m(\u001b[0m\u001b[0moutput\u001b[0m\u001b[0;34m.\u001b[0m\u001b[0msize\u001b[0m\u001b[0;34m(\u001b[0m\u001b[0;34m)\u001b[0m\u001b[0;34m)\u001b[0m\u001b[0;34m.\u001b[0m\u001b[0mfill_\u001b[0m\u001b[0;34m(\u001b[0m\u001b[0mfake_label\u001b[0m\u001b[0;34m)\u001b[0m\u001b[0;34m\u001b[0m\u001b[0m\n\u001b[1;32m     47\u001b[0m         \u001b[0merr_d_fake\u001b[0m \u001b[0;34m=\u001b[0m \u001b[0mcriterion\u001b[0m\u001b[0;34m(\u001b[0m\u001b[0moutput\u001b[0m\u001b[0;34m,\u001b[0m \u001b[0mlabel\u001b[0m\u001b[0;34m)\u001b[0m\u001b[0;34m\u001b[0m\u001b[0m\n",
      "\u001b[0;32m/usr/local/lib/python2.7/dist-packages/torch/autograd/variable.pyc\u001b[0m in \u001b[0;36mcat\u001b[0;34m(iterable, dim)\u001b[0m\n\u001b[1;32m    839\u001b[0m         \u001b[0;34m@\u001b[0m\u001b[0mstaticmethod\u001b[0m\u001b[0;34m\u001b[0m\u001b[0m\n\u001b[1;32m    840\u001b[0m         \u001b[0;32mdef\u001b[0m \u001b[0mcat\u001b[0m\u001b[0;34m(\u001b[0m\u001b[0miterable\u001b[0m\u001b[0;34m,\u001b[0m \u001b[0mdim\u001b[0m\u001b[0;34m=\u001b[0m\u001b[0;36m0\u001b[0m\u001b[0;34m)\u001b[0m\u001b[0;34m:\u001b[0m\u001b[0;34m\u001b[0m\u001b[0m\n\u001b[0;32m--> 841\u001b[0;31m             \u001b[0;32mreturn\u001b[0m \u001b[0mConcat\u001b[0m\u001b[0;34m(\u001b[0m\u001b[0mdim\u001b[0m\u001b[0;34m)\u001b[0m\u001b[0;34m(\u001b[0m\u001b[0;34m*\u001b[0m\u001b[0miterable\u001b[0m\u001b[0;34m)\u001b[0m\u001b[0;34m\u001b[0m\u001b[0m\n\u001b[0m\u001b[1;32m    842\u001b[0m \u001b[0;34m\u001b[0m\u001b[0m\n\u001b[1;32m    843\u001b[0m         \u001b[0;34m@\u001b[0m\u001b[0mstaticmethod\u001b[0m\u001b[0;34m\u001b[0m\u001b[0m\n",
      "\u001b[0;32m/usr/local/lib/python2.7/dist-packages/torch/autograd/_functions/tensor.pyc\u001b[0m in \u001b[0;36mforward\u001b[0;34m(self, *inputs)\u001b[0m\n\u001b[1;32m    308\u001b[0m     \u001b[0;32mdef\u001b[0m \u001b[0mforward\u001b[0m\u001b[0;34m(\u001b[0m\u001b[0mself\u001b[0m\u001b[0;34m,\u001b[0m \u001b[0;34m*\u001b[0m\u001b[0minputs\u001b[0m\u001b[0;34m)\u001b[0m\u001b[0;34m:\u001b[0m\u001b[0;34m\u001b[0m\u001b[0m\n\u001b[1;32m    309\u001b[0m         \u001b[0mself\u001b[0m\u001b[0;34m.\u001b[0m\u001b[0minput_sizes\u001b[0m \u001b[0;34m=\u001b[0m \u001b[0;34m[\u001b[0m\u001b[0mi\u001b[0m\u001b[0;34m.\u001b[0m\u001b[0msize\u001b[0m\u001b[0;34m(\u001b[0m\u001b[0mself\u001b[0m\u001b[0;34m.\u001b[0m\u001b[0mdim\u001b[0m\u001b[0;34m)\u001b[0m \u001b[0;32mfor\u001b[0m \u001b[0mi\u001b[0m \u001b[0;32min\u001b[0m \u001b[0minputs\u001b[0m\u001b[0;34m]\u001b[0m\u001b[0;34m\u001b[0m\u001b[0m\n\u001b[0;32m--> 310\u001b[0;31m         \u001b[0;32mreturn\u001b[0m \u001b[0mtorch\u001b[0m\u001b[0;34m.\u001b[0m\u001b[0mcat\u001b[0m\u001b[0;34m(\u001b[0m\u001b[0minputs\u001b[0m\u001b[0;34m,\u001b[0m \u001b[0mself\u001b[0m\u001b[0;34m.\u001b[0m\u001b[0mdim\u001b[0m\u001b[0;34m)\u001b[0m\u001b[0;34m\u001b[0m\u001b[0m\n\u001b[0m\u001b[1;32m    311\u001b[0m \u001b[0;34m\u001b[0m\u001b[0m\n\u001b[1;32m    312\u001b[0m     \u001b[0;32mdef\u001b[0m \u001b[0mbackward\u001b[0m\u001b[0;34m(\u001b[0m\u001b[0mself\u001b[0m\u001b[0;34m,\u001b[0m \u001b[0mgrad_output\u001b[0m\u001b[0;34m)\u001b[0m\u001b[0;34m:\u001b[0m\u001b[0;34m\u001b[0m\u001b[0m\n",
      "\u001b[0;31mRuntimeError\u001b[0m: inconsistent tensor sizes at /b/wheel/pytorch-src/torch/lib/THC/generic/THCTensorMath.cu:141"
     ]
    }
   ],
   "source": [
    "\n",
    "\n",
    "def test():\n",
    "    avg_psnr = 0\n",
    "    for batch in testing_data_loader:\n",
    "        input, target = Variable(batch[0]), Variable(batch[1])\n",
    "        if cuda:\n",
    "            input = input.cuda()\n",
    "            target = target.cuda()\n",
    "\n",
    "        prediction = netG(input)\n",
    "        mse = criterion_mse(prediction, target)\n",
    "        psnr = 10 * log10(1 / mse.data[0])\n",
    "        avg_psnr += psnr\n",
    "    print(\"===> Avg. PSNR: {:.4f} dB\".format(avg_psnr / len(testing_data_loader)))\n",
    "\n",
    "\n",
    "def checkpoint(epoch):\n",
    "    if not os.path.exists(\"checkpoint\"):\n",
    "        os.mkdir(\"checkpoint\")\n",
    "    if not os.path.exists(os.path.join(\"checkpoint\", dataset)):\n",
    "        os.mkdir(os.path.join(\"checkpoint\", dataset))\n",
    "    net_g_model_out_path = \"checkpoint/{}/netG_model_epoch_{}.pth\".format(dataset, epoch)\n",
    "    net_d_model_out_path = \"checkpoint/{}/netD_model_epoch_{}.pth\".format(dataset, epoch)\n",
    "    torch.save(netG.state_dict(), net_g_model_out_path)\n",
    "    torch.save(netD.state_dict(), net_d_model_out_path)\n",
    "    print(\"Checkpoint saved to {}\".format(\"checkpoint\" + dataset))\n",
    "\n",
    "for epoch in range(0, nEpochs + 1):\n",
    "    print (epoch)\n",
    "    train(epoch)\n",
    "    #test()\n",
    "    if epoch % 50 == 0:\n",
    "        checkpoint(epoch)\n"
   ]
  },
  {
   "cell_type": "code",
   "execution_count": null,
   "metadata": {
    "collapsed": true
   },
   "outputs": [],
   "source": []
  },
  {
   "cell_type": "code",
   "execution_count": null,
   "metadata": {
    "collapsed": true
   },
   "outputs": [],
   "source": []
  },
  {
   "cell_type": "code",
   "execution_count": null,
   "metadata": {
    "collapsed": true
   },
   "outputs": [],
   "source": []
  },
  {
   "cell_type": "code",
   "execution_count": null,
   "metadata": {
    "collapsed": true
   },
   "outputs": [],
   "source": []
  },
  {
   "cell_type": "code",
   "execution_count": null,
   "metadata": {
    "collapsed": true
   },
   "outputs": [],
   "source": []
  },
  {
   "cell_type": "code",
   "execution_count": null,
   "metadata": {
    "collapsed": true
   },
   "outputs": [],
   "source": []
  }
 ],
 "metadata": {
  "kernelspec": {
   "display_name": "Python 2",
   "language": "python",
   "name": "python2"
  },
  "language_info": {
   "codemirror_mode": {
    "name": "ipython",
    "version": 2
   },
   "file_extension": ".py",
   "mimetype": "text/x-python",
   "name": "python",
   "nbconvert_exporter": "python",
   "pygments_lexer": "ipython2",
   "version": "2.7.6"
  }
 },
 "nbformat": 4,
 "nbformat_minor": 2
}
