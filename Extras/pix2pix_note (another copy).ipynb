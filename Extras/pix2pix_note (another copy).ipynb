{
 "cells": [
  {
   "cell_type": "code",
   "execution_count": 1,
   "metadata": {
    "collapsed": true
   },
   "outputs": [],
   "source": [
    "from __future__ import print_function\n",
    "import os\n",
    "from math import log10\n",
    "\n",
    "import torch\n",
    "import torch.nn as nn\n",
    "import torch.optim as optim\n",
    "from torch.autograd import Variable\n",
    "from torch.utils.data import DataLoader\n",
    "from models import G, D, weights_init\n",
    "from data import get_training_set, get_test_set\n",
    "import torch.backends.cudnn as cudnn\n",
    "import os\n",
    "import random\n",
    "import torch\n",
    "import torch.nn as nn\n",
    "import torch.nn.parallel\n",
    "import torch.backends.cudnn as cudnn\n",
    "import torch.optim as optim\n",
    "import torch.utils.data\n",
    "import torchvision.datasets as dset\n",
    "import torchvision.transforms as transforms\n",
    "import torchvision.utils as vutils\n",
    "from torch.autograd import Variable\n",
    "#torch.backends.cudnn.enabled = False\n"
   ]
  },
  {
   "cell_type": "code",
   "execution_count": 2,
   "metadata": {
    "collapsed": true
   },
   "outputs": [],
   "source": [
    "import numpy as np"
   ]
  },
  {
   "cell_type": "code",
   "execution_count": null,
   "metadata": {
    "collapsed": true
   },
   "outputs": [],
   "source": []
  },
  {
   "cell_type": "code",
   "execution_count": 3,
   "metadata": {
    "scrolled": false
   },
   "outputs": [
    {
     "name": "stdout",
     "output_type": "stream",
     "text": [
      "256\n",
      "256\n",
      "1966080\n",
      "phew\n",
      "0\n",
      "(10, 3, 256, 256)\n"
     ]
    }
   ],
   "source": [
    "\n",
    "batchSize=10\n",
    "testBatchSize=10\n",
    "nEpochs=500000\n",
    "threads=2\n",
    "lamb=100\n",
    "seed=187\n",
    "cuda=True\n",
    "beta1=0.5\n",
    "lr=0.0002\n",
    "ndf=16\n",
    "ngf=16\n",
    "input_nc=3\n",
    "output_nc=3\n",
    "\n",
    "dataset='hdr'\n",
    "dataroot='all_batched_dataset_256/mat_files/'\n",
    "path=dataroot\n",
    "\n",
    "import os\n",
    "import scipy.io\n",
    "ls=os.listdir(path)\n",
    "#print ls\n",
    "xs=[]\n",
    "ys=[]\n",
    "#for idx,i in enumerate(ls):\n",
    "#    if(idx%100==0):\n",
    "#        print ((idx,'ls'))\n",
    "#    im1 = scipy.io.loadmat(path+i)\n",
    "#    im1=im1['im']\n",
    "#    xs.append(im1.shape[0])\n",
    "#    ys.append(im1.shape[1])\n",
    "s1=(256)\n",
    "s2=(256)\n",
    "print (s1)\n",
    "print (s2)\n",
    "imageSize=(s1,s2,3)\n",
    "\n",
    "##################\n",
    "ls=ls[0:10]\n",
    "\n",
    "#####################\n",
    "lls=len(ls)\n",
    "\n",
    "import numpy as np\n",
    "print (lls*3*s1*s2)\n",
    "#X=np.zeros((lls,3,s1,s2))\n",
    "#Y=np.zeros((lls,3,s1,s2))\n",
    "X=np.random.rand(lls,3,s1,s2)\n",
    "Y=np.random.rand(lls,3,s1,s2)\n",
    "\n",
    "print ('phew')\n",
    "count=0\n",
    "import Image\n",
    "for idx,i in enumerate(ls):\n",
    "    li=len(i)\n",
    "    i=i[0:li-4]\n",
    "    im1 = scipy.io.loadmat(path+i+'.mat')\n",
    "    im2=np.asarray(Image.open('all_batched_dataset_256/image_files/'+i+'.png'))    \n",
    "    im2=im2/255.0;\n",
    "    im1=im1['im']\n",
    "\n",
    "    X[count,0,:,:]=im1[:    , : ,0]\n",
    "    X[count,1,:,:]=im1[ :    , : ,1]\n",
    "    X[count,2,:,:]=im1[:    , : ,2]\n",
    "\n",
    "    Y[count,0, :    , : ]=im2[ :    , : ,0]\n",
    "    Y[count,1, :    , : ]=im2[ :    , : ,1]\n",
    "    Y[count,2, :    , : ]=im2[ :    , : ,2]\n",
    "    count=count+1\n",
    "    if(idx%1000==0):\n",
    "        print (idx)\n",
    "print(X.shape)\n",
    "\n",
    "\n",
    "if cuda and not torch.cuda.is_available():\n",
    "    raise Exception(\"No GPU found, please run without --cuda\")\n",
    "\n",
    "cudnn.benchmark = True\n",
    "\n",
    "torch.manual_seed(seed)\n",
    "if cuda:\n",
    "    torch.cuda.manual_seed(seed)\n",
    "\n",
    "\n"
   ]
  },
  {
   "cell_type": "code",
   "execution_count": 7,
   "metadata": {},
   "outputs": [
    {
     "data": {
      "text/plain": [
       "0.02459319494664669"
      ]
     },
     "execution_count": 7,
     "metadata": {},
     "output_type": "execute_result"
    }
   ],
   "source": [
    "X[0,1,255,24]\n"
   ]
  },
  {
   "cell_type": "code",
   "execution_count": 4,
   "metadata": {
    "collapsed": true
   },
   "outputs": [],
   "source": [
    "import csv\n",
    "with open( 'X.csv', \"wb\") as csv_file:\n",
    "        writer = csv.writer(csv_file, delimiter=',')\n",
    "        for i in range(X.shape[0]):\n",
    "            for j in range(X.shape[1]):    \n",
    "                writer.writerows(X[i,j,:,:])\n",
    "                \n"
   ]
  },
  {
   "cell_type": "code",
   "execution_count": 5,
   "metadata": {
    "collapsed": true
   },
   "outputs": [],
   "source": [
    "import csv\n",
    "with open( 'Y.csv', \"wb\") as csv_file:\n",
    "        writer = csv.writer(csv_file, delimiter=',')\n",
    "        for i in range(X.shape[0]):\n",
    "            for j in range(X.shape[1]):    \n",
    "                writer.writerows(Y[i,j,:,:])\n",
    "                \n"
   ]
  },
  {
   "cell_type": "code",
   "execution_count": 4,
   "metadata": {},
   "outputs": [
    {
     "name": "stdout",
     "output_type": "stream",
     "text": [
      "===> Building model\n"
     ]
    },
    {
     "data": {
      "text/plain": [
       "D (\n",
       "  (conv1): Conv2d(6, 16, kernel_size=(4, 4), stride=(2, 2), padding=(1, 1))\n",
       "  (conv2): Conv2d(16, 32, kernel_size=(4, 4), stride=(2, 2), padding=(1, 1))\n",
       "  (conv3): Conv2d(32, 64, kernel_size=(4, 4), stride=(2, 2), padding=(1, 1))\n",
       "  (conv4): Conv2d(64, 128, kernel_size=(4, 4), stride=(1, 1), padding=(1, 1))\n",
       "  (conv5): Conv2d(128, 1, kernel_size=(4, 4), stride=(1, 1), padding=(1, 1))\n",
       "  (batch_norm2): BatchNorm2d(32, eps=1e-05, momentum=0.1, affine=True)\n",
       "  (batch_norm4): BatchNorm2d(64, eps=1e-05, momentum=0.1, affine=True)\n",
       "  (batch_norm8): BatchNorm2d(128, eps=1e-05, momentum=0.1, affine=True)\n",
       "  (leaky_relu): LeakyReLU (0.2, inplace)\n",
       "  (sigmoid): Sigmoid ()\n",
       ")"
      ]
     },
     "execution_count": 4,
     "metadata": {},
     "output_type": "execute_result"
    }
   ],
   "source": [
    "\n",
    "def get_batch_train():\n",
    "    import numpy.random\n",
    "    pos=numpy.random.randint(0,X.shape[0],(batchSize))\n",
    "    x1=X[pos]\n",
    "    y1=Y[pos]\n",
    "    x1=torch.FloatTensor(x1)\n",
    "    y1=torch.FloatTensor(y1)\n",
    "    return (x1), (y1)\n",
    "\n",
    "\n",
    "x1,y1=get_batch_train()\n",
    "print('===> Building model')\n",
    "netG = G(input_nc, output_nc, ngf)\n",
    "netG.apply(weights_init)\n",
    "netD = D(input_nc, output_nc, ndf)\n",
    "netD.apply(weights_init)\n",
    "\n"
   ]
  },
  {
   "cell_type": "code",
   "execution_count": 5,
   "metadata": {
    "collapsed": true
   },
   "outputs": [],
   "source": [
    "criterion=nn.MSELoss()\n",
    "criterion_l1 = nn.L1Loss()\n",
    "criterion_mse = nn.MSELoss()\n",
    "\n",
    "real_A = torch.FloatTensor(batchSize, input_nc, s1, s2)\n",
    "real_B = torch.FloatTensor(batchSize, output_nc, s1, s2)\n",
    "label = torch.FloatTensor(batchSize)\n",
    "real_label = 1\n",
    "fake_label = 0\n",
    "\n",
    "if cuda:\n",
    "    netD = netD.cuda()\n",
    "    netG = netG.cuda()\n",
    "    criterion = criterion.cuda()\n",
    "    criterion_l1 = criterion_l1.cuda()\n",
    "    criterion_mse = criterion_mse.cuda()\n",
    "    real_A = real_A.cuda()\n",
    "    real_B = real_B.cuda()\n",
    "    label = label.cuda()\n",
    "\n",
    "\n",
    "real_A = Variable(real_A)\n",
    "real_B = Variable(real_B)\n",
    "label = Variable(label)\n",
    "\n",
    "# setup optimizer\n",
    "optimizerD = optim.Adam(netD.parameters(), lr=lr, betas=(beta1, 0.999))\n",
    "optimizer = optim.Adam(netG.parameters(), lr=lr, betas=(beta1, 0.999))\n",
    "\n"
   ]
  },
  {
   "cell_type": "code",
   "execution_count": 6,
   "metadata": {
    "collapsed": true
   },
   "outputs": [],
   "source": [
    "outf='output_dilated_true/'\n",
    "def train(epoch):\n",
    "    for iteration in range(10):\n",
    "\n",
    "        data, target = get_batch_train()\n",
    "        #print (epoch,1)\n",
    "\n",
    "        #data, target= torch.from_numpy(data), torch.from_numpy(target)\n",
    "        data, target = data.float().cuda(), target.float().cuda()\n",
    "        data, target = Variable(data,requires_grad=True), Variable(target,requires_grad=True)\n",
    "\n",
    "        optimizer.zero_grad()\n",
    "        \n",
    "        \n",
    "\n",
    "\n",
    "        # train with fake\n",
    "        fake_b = netG(data)\n",
    "        loss = torch.mean(torch.pow(fake_b - target ,2  ))\n",
    "        loss.backward( )\n",
    "        optimizer.step()\n",
    "\n",
    "        if(iteration==9 and epoch % 5==0):\n",
    "            import numpy as np\n",
    "            ss=Y.shape[0]\n",
    "            xyvap=np.random.randint(ss)\n",
    "            #vutils.save_image(Y[xyvap],\n",
    "            #        '%s/real_samples.png' % outf)\n",
    "\n",
    "            ddv=X[xyvap:xyvap+1]\n",
    "            #print (ddv.shape)\n",
    "            ddv2=Variable(torch.from_numpy(ddv).float().cuda())\n",
    "\n",
    "            ddv3=Y[xyvap:xyvap+1]\n",
    "            #print (ddv.shape)\n",
    "            ddv4=Variable(torch.from_numpy(ddv3).float().cuda())\n",
    "            #print (ddv2)\n",
    "            fake = netG(ddv2)\n",
    "            #print (fake.data)\n",
    "            #print (ddv4)\n",
    "\n",
    "            vutils.save_image(fake.data,\n",
    "                    '%s/samples_epoch_%03d.png' % (outf, epoch) , normalize=False)\n",
    "            vutils.save_image(ddv4.data,\n",
    "                    '%s/samples_epoch_%03d.png' % (outf, epoch+1), normalize=False)\n",
    "\n",
    "    print(epoch,loss.data[0])\n",
    "    if(epoch%10==0): \n",
    "        torch.save(netG.state_dict(), '%s/netG_epoch_%d.pth' % (outf, epoch))\n",
    "\n"
   ]
  },
  {
   "cell_type": "code",
   "execution_count": 7,
   "metadata": {
    "scrolled": true
   },
   "outputs": [
    {
     "name": "stdout",
     "output_type": "stream",
     "text": [
      "0\n",
      "0 0.363223046064\n",
      "Checkpoint saved to checkpointhdr\n",
      "1\n",
      "1 0.476005285978\n",
      "2\n",
      "2 0.325557976961\n",
      "3\n",
      "3 0.395489066839\n",
      "4\n",
      "4 0.320150256157\n",
      "5\n",
      "5 0.444800972939\n",
      "6\n",
      "6 0.267515182495\n",
      "7\n",
      "7 0.434292316437\n",
      "8\n",
      "8 0.329205662012\n",
      "9\n",
      "9 0.285726964474\n",
      "10\n",
      "10 0.347567647696\n",
      "11\n",
      "11 0.276838988066\n",
      "12\n",
      "12 0.360912978649\n",
      "13\n",
      "13 0.357390105724\n",
      "14\n",
      "14 0.341111749411\n",
      "15\n",
      "15 0.290149688721\n",
      "16\n",
      "16 0.36040699482\n",
      "17\n",
      "17 0.37228217721\n",
      "18\n",
      "18 0.321394056082\n",
      "19\n",
      "19 0.317758202553\n",
      "20\n",
      "20 0.464227646589\n",
      "21\n",
      "21 0.314256668091\n",
      "22\n",
      "22 0.277570903301\n",
      "23\n",
      "23 0.253123641014\n",
      "24\n",
      "24 0.403587907553\n",
      "25\n",
      "25 0.419377744198\n",
      "26\n",
      "26 0.311236590147\n",
      "27\n",
      "27 0.420554786921\n",
      "28\n",
      "28 0.291298866272\n",
      "29\n",
      "29 0.392632126808\n",
      "30\n",
      "30 0.398420155048\n",
      "31\n",
      "31 0.341313481331\n",
      "32\n",
      "32 0.312137901783\n",
      "33\n",
      "33 0.42790555954\n",
      "34\n",
      "34 0.293485552073\n",
      "35\n",
      "35 0.239884346724\n",
      "36\n",
      "36 0.397655755281\n",
      "37\n",
      "37 0.377022385597\n",
      "38\n",
      "38 0.525163292885\n",
      "39\n",
      "39 0.411848962307\n",
      "40\n",
      "40 0.285943508148\n",
      "41\n",
      "41 0.336429655552\n",
      "42\n",
      "42 0.327953934669\n",
      "43\n",
      "43 0.36851555109\n",
      "44\n",
      "44 0.287648290396\n",
      "45\n",
      "45 0.354324907064\n",
      "46\n",
      "46 0.444353580475\n",
      "47\n",
      "47 0.36142462492\n",
      "48\n",
      "48 0.392265498638\n",
      "49\n",
      "49 0.341938972473\n",
      "50\n"
     ]
    },
    {
     "ename": "KeyboardInterrupt",
     "evalue": "",
     "output_type": "error",
     "traceback": [
      "\u001b[0;31m---------------------------------------------------------------------------\u001b[0m",
      "\u001b[0;31mKeyboardInterrupt\u001b[0m                         Traceback (most recent call last)",
      "\u001b[0;32m<ipython-input-7-aede8a6fed68>\u001b[0m in \u001b[0;36m<module>\u001b[0;34m()\u001b[0m\n\u001b[1;32m     29\u001b[0m \u001b[0;32mfor\u001b[0m \u001b[0mepoch\u001b[0m \u001b[0;32min\u001b[0m \u001b[0mrange\u001b[0m\u001b[0;34m(\u001b[0m\u001b[0;36m0\u001b[0m\u001b[0;34m,\u001b[0m \u001b[0mnEpochs\u001b[0m \u001b[0;34m+\u001b[0m \u001b[0;36m1\u001b[0m\u001b[0;34m)\u001b[0m\u001b[0;34m:\u001b[0m\u001b[0;34m\u001b[0m\u001b[0m\n\u001b[1;32m     30\u001b[0m     \u001b[0;32mprint\u001b[0m \u001b[0;34m(\u001b[0m\u001b[0mepoch\u001b[0m\u001b[0;34m)\u001b[0m\u001b[0;34m\u001b[0m\u001b[0m\n\u001b[0;32m---> 31\u001b[0;31m     \u001b[0mtrain\u001b[0m\u001b[0;34m(\u001b[0m\u001b[0mepoch\u001b[0m\u001b[0;34m)\u001b[0m\u001b[0;34m\u001b[0m\u001b[0m\n\u001b[0m\u001b[1;32m     32\u001b[0m     \u001b[0;31m#test()\u001b[0m\u001b[0;34m\u001b[0m\u001b[0;34m\u001b[0m\u001b[0m\n\u001b[1;32m     33\u001b[0m     \u001b[0;32mif\u001b[0m \u001b[0mepoch\u001b[0m \u001b[0;34m%\u001b[0m \u001b[0;36m50\u001b[0m \u001b[0;34m==\u001b[0m \u001b[0;36m0\u001b[0m\u001b[0;34m:\u001b[0m\u001b[0;34m\u001b[0m\u001b[0m\n",
      "\u001b[0;32m<ipython-input-6-56167f14a22f>\u001b[0m in \u001b[0;36mtrain\u001b[0;34m(epoch)\u001b[0m\n\u001b[1;32m      3\u001b[0m     \u001b[0;32mfor\u001b[0m \u001b[0miteration\u001b[0m \u001b[0;32min\u001b[0m \u001b[0mrange\u001b[0m\u001b[0;34m(\u001b[0m\u001b[0;36m10\u001b[0m\u001b[0;34m)\u001b[0m\u001b[0;34m:\u001b[0m\u001b[0;34m\u001b[0m\u001b[0m\n\u001b[1;32m      4\u001b[0m \u001b[0;34m\u001b[0m\u001b[0m\n\u001b[0;32m----> 5\u001b[0;31m         \u001b[0mdata\u001b[0m\u001b[0;34m,\u001b[0m \u001b[0mtarget\u001b[0m \u001b[0;34m=\u001b[0m \u001b[0mget_batch_train\u001b[0m\u001b[0;34m(\u001b[0m\u001b[0;34m)\u001b[0m\u001b[0;34m\u001b[0m\u001b[0m\n\u001b[0m\u001b[1;32m      6\u001b[0m         \u001b[0;31m#print (epoch,1)\u001b[0m\u001b[0;34m\u001b[0m\u001b[0;34m\u001b[0m\u001b[0m\n\u001b[1;32m      7\u001b[0m \u001b[0;34m\u001b[0m\u001b[0m\n",
      "\u001b[0;32m<ipython-input-4-64afef67c75e>\u001b[0m in \u001b[0;36mget_batch_train\u001b[0;34m()\u001b[0m\n\u001b[1;32m      5\u001b[0m     \u001b[0mx1\u001b[0m\u001b[0;34m=\u001b[0m\u001b[0mX\u001b[0m\u001b[0;34m[\u001b[0m\u001b[0mpos\u001b[0m\u001b[0;34m]\u001b[0m\u001b[0;34m\u001b[0m\u001b[0m\n\u001b[1;32m      6\u001b[0m     \u001b[0my1\u001b[0m\u001b[0;34m=\u001b[0m\u001b[0mY\u001b[0m\u001b[0;34m[\u001b[0m\u001b[0mpos\u001b[0m\u001b[0;34m]\u001b[0m\u001b[0;34m\u001b[0m\u001b[0m\n\u001b[0;32m----> 7\u001b[0;31m     \u001b[0mx1\u001b[0m\u001b[0;34m=\u001b[0m\u001b[0mtorch\u001b[0m\u001b[0;34m.\u001b[0m\u001b[0mFloatTensor\u001b[0m\u001b[0;34m(\u001b[0m\u001b[0mx1\u001b[0m\u001b[0;34m)\u001b[0m\u001b[0;34m\u001b[0m\u001b[0m\n\u001b[0m\u001b[1;32m      8\u001b[0m     \u001b[0my1\u001b[0m\u001b[0;34m=\u001b[0m\u001b[0mtorch\u001b[0m\u001b[0;34m.\u001b[0m\u001b[0mFloatTensor\u001b[0m\u001b[0;34m(\u001b[0m\u001b[0my1\u001b[0m\u001b[0;34m)\u001b[0m\u001b[0;34m\u001b[0m\u001b[0m\n\u001b[1;32m      9\u001b[0m     \u001b[0;32mreturn\u001b[0m \u001b[0;34m(\u001b[0m\u001b[0mx1\u001b[0m\u001b[0;34m)\u001b[0m\u001b[0;34m,\u001b[0m \u001b[0;34m(\u001b[0m\u001b[0my1\u001b[0m\u001b[0;34m)\u001b[0m\u001b[0;34m\u001b[0m\u001b[0m\n",
      "\u001b[0;31mKeyboardInterrupt\u001b[0m: "
     ]
    }
   ],
   "source": [
    "\n",
    "\n",
    "def test():\n",
    "    avg_psnr = 0\n",
    "    for batch in testing_data_loader:\n",
    "        input, target = Variable(batch[0]), Variable(batch[1])\n",
    "        if cuda:\n",
    "            input = input.cuda()\n",
    "            target = target.cuda()\n",
    "\n",
    "        prediction = netG(input)\n",
    "        mse = criterion_mse(prediction, target)\n",
    "        psnr = 10 * log10(1 / mse.data[0])\n",
    "        avg_psnr += psnr\n",
    "    print(\"===> Avg. PSNR: {:.4f} dB\".format(avg_psnr / len(testing_data_loader)))\n",
    "\n",
    "\n",
    "def checkpoint(epoch):\n",
    "    if not os.path.exists(\"checkpoint\"):\n",
    "        os.mkdir(\"checkpoint\")\n",
    "    if not os.path.exists(os.path.join(\"checkpoint\", dataset)):\n",
    "        os.mkdir(os.path.join(\"checkpoint\", dataset))\n",
    "    net_g_model_out_path = \"checkpoint/{}/netG_model_epoch_{}.pth\".format(dataset, epoch)\n",
    "    net_d_model_out_path = \"checkpoint/{}/netD_model_epoch_{}.pth\".format(dataset, epoch)\n",
    "    torch.save(netG.state_dict(), net_g_model_out_path)\n",
    "    torch.save(netD.state_dict(), net_d_model_out_path)\n",
    "    print(\"Checkpoint saved to {}\".format(\"checkpoint\" + dataset))\n",
    "\n",
    "for epoch in range(0, nEpochs + 1):\n",
    "    print (epoch)\n",
    "    train(epoch)\n",
    "    #test()\n",
    "    if epoch % 50 == 0:\n",
    "        checkpoint(epoch)\n"
   ]
  },
  {
   "cell_type": "code",
   "execution_count": null,
   "metadata": {
    "collapsed": true
   },
   "outputs": [],
   "source": []
  },
  {
   "cell_type": "code",
   "execution_count": null,
   "metadata": {
    "collapsed": true
   },
   "outputs": [],
   "source": []
  },
  {
   "cell_type": "code",
   "execution_count": null,
   "metadata": {
    "collapsed": true
   },
   "outputs": [],
   "source": []
  },
  {
   "cell_type": "code",
   "execution_count": null,
   "metadata": {
    "collapsed": true
   },
   "outputs": [],
   "source": []
  },
  {
   "cell_type": "code",
   "execution_count": null,
   "metadata": {
    "collapsed": true
   },
   "outputs": [],
   "source": []
  },
  {
   "cell_type": "code",
   "execution_count": null,
   "metadata": {
    "collapsed": true
   },
   "outputs": [],
   "source": []
  }
 ],
 "metadata": {
  "kernelspec": {
   "display_name": "Python 2",
   "language": "python",
   "name": "python2"
  },
  "language_info": {
   "codemirror_mode": {
    "name": "ipython",
    "version": 2
   },
   "file_extension": ".py",
   "mimetype": "text/x-python",
   "name": "python",
   "nbconvert_exporter": "python",
   "pygments_lexer": "ipython2",
   "version": "2.7.6"
  }
 },
 "nbformat": 4,
 "nbformat_minor": 2
}
